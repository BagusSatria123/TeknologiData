{
  "nbformat": 4,
  "nbformat_minor": 0,
  "metadata": {
    "colab": {
      "name": "Pertemuan4.ipynb",
      "provenance": [],
      "authorship_tag": "ABX9TyNVNge6i1nZ0oOTe9SuM9pt",
      "include_colab_link": true
    },
    "kernelspec": {
      "name": "python3",
      "display_name": "Python 3"
    },
    "language_info": {
      "name": "python"
    }
  },
  "cells": [
    {
      "cell_type": "markdown",
      "metadata": {
        "id": "view-in-github",
        "colab_type": "text"
      },
      "source": [
        "<a href=\"https://colab.research.google.com/github/BagusSatria123/TeknologiData/blob/master/Pertemuan4.ipynb\" target=\"_parent\"><img src=\"https://colab.research.google.com/assets/colab-badge.svg\" alt=\"Open In Colab\"/></a>"
      ]
    },
    {
      "cell_type": "code",
      "metadata": {
        "id": "U8pBy6YlOLbv",
        "outputId": "5f52b852-c2af-4f21-8ee3-2c065a31e6fa",
        "colab": {
          "base_uri": "https://localhost:8080/",
          "height": 193
        }
      },
      "source": [
        "a = panjang1 + panjang2 + \\\n",
        " panjang3 + \\\n",
        "panjang4\n",
        "print(a)"
      ],
      "execution_count": 10,
      "outputs": [
        {
          "output_type": "error",
          "ename": "NameError",
          "evalue": "ignored",
          "traceback": [
            "\u001b[0;31m---------------------------------------------------------------------------\u001b[0m",
            "\u001b[0;31mNameError\u001b[0m                                 Traceback (most recent call last)",
            "\u001b[0;32m<ipython-input-10-662164a501e9>\u001b[0m in \u001b[0;36m<module>\u001b[0;34m()\u001b[0m\n\u001b[0;32m----> 1\u001b[0;31m \u001b[0ma\u001b[0m \u001b[0;34m=\u001b[0m \u001b[0mpanjang1\u001b[0m \u001b[0;34m+\u001b[0m \u001b[0mpanjang2\u001b[0m \u001b[0;34m+\u001b[0m  \u001b[0mpanjang3\u001b[0m \u001b[0;34m+\u001b[0m \u001b[0mpanjang4\u001b[0m\u001b[0;34m\u001b[0m\u001b[0;34m\u001b[0m\u001b[0m\n\u001b[0m\u001b[1;32m      2\u001b[0m \u001b[0mprint\u001b[0m\u001b[0;34m(\u001b[0m\u001b[0ma\u001b[0m\u001b[0;34m)\u001b[0m\u001b[0;34m\u001b[0m\u001b[0;34m\u001b[0m\u001b[0m\n",
            "\u001b[0;31mNameError\u001b[0m: name 'panjang1' is not defined"
          ]
        }
      ]
    },
    {
      "cell_type": "code",
      "metadata": {
        "id": "PRNHwb4TO2nb",
        "outputId": "c0fac541-d2bc-4be4-acf0-6061d9d8b5ca",
        "colab": {
          "base_uri": "https://localhost:8080/"
        }
      },
      "source": [
        "nama_bulan = ['Januari', 'Maret', 'Juni', 'September']\n",
        "print(nama_bulan)"
      ],
      "execution_count": 7,
      "outputs": [
        {
          "output_type": "stream",
          "text": [
            "['Januari', 'Maret', 'Juni', 'September']\n"
          ],
          "name": "stdout"
        }
      ]
    },
    {
      "cell_type": "markdown",
      "metadata": {
        "id": "stj4tOWZRBrq"
      },
      "source": [
        "**Baris dan Indentasi**"
      ]
    },
    {
      "cell_type": "code",
      "metadata": {
        "id": "WE0TvcqTPgqs",
        "outputId": "8357f7b1-5811-4bca-8d07-bebf851684f5",
        "colab": {
          "base_uri": "https://localhost:8080/",
          "height": 137
        }
      },
      "source": [
        "if True:\n",
        " print (\"Jawab\")\n",
        " print (\"Benar\")\n",
        "else:\n",
        "print (\"Jawab\")\n",
        "print (\"Salah\")\n"
      ],
      "execution_count": 13,
      "outputs": [
        {
          "output_type": "error",
          "ename": "IndentationError",
          "evalue": "ignored",
          "traceback": [
            "\u001b[0;36m  File \u001b[0;32m\"<ipython-input-13-7e9430a7d6df>\"\u001b[0;36m, line \u001b[0;32m5\u001b[0m\n\u001b[0;31m    print (\"Jawab\")\u001b[0m\n\u001b[0m        ^\u001b[0m\n\u001b[0;31mIndentationError\u001b[0m\u001b[0;31m:\u001b[0m expected an indented block\n"
          ]
        }
      ]
    },
    {
      "cell_type": "markdown",
      "metadata": {
        "id": "rd1lRMYiRLRf"
      },
      "source": [
        "**Tanda Kutip di Python**"
      ]
    },
    {
      "cell_type": "code",
      "metadata": {
        "id": "EJjXewrJQze4"
      },
      "source": [
        "kata = 'kata'\n",
        "kalimat = \"Ini adalah kalimat\"\n",
        "paragraf = \"\"\"Ini adalah paragraf. Paragraf\n",
        " terdiri dari beberapa baris.\"\"\"\n"
      ],
      "execution_count": 15,
      "outputs": []
    },
    {
      "cell_type": "markdown",
      "metadata": {
        "id": "EnxhBuajRQgk"
      },
      "source": [
        "**Komentar di Python**"
      ]
    },
    {
      "cell_type": "code",
      "metadata": {
        "id": "v_pASEbZQ3Zy"
      },
      "source": [
        "# Komentar pertama\n",
        "print(\"Hello World!\") # Komentar kedua\n"
      ],
      "execution_count": null,
      "outputs": []
    },
    {
      "cell_type": "code",
      "metadata": {
        "id": "AH8NFilKRVEJ"
      },
      "source": [
        "# Ini komentar\n",
        "# Ini juga adalah komentar\n",
        "# Ini juga masih komentar"
      ],
      "execution_count": null,
      "outputs": []
    },
    {
      "cell_type": "markdown",
      "metadata": {
        "id": "k4GiUcC1RWhk"
      },
      "source": [
        "**Variabel dan Tipe Data Python**"
      ]
    },
    {
      "cell_type": "markdown",
      "metadata": {
        "id": "1Kp3LohIReEZ"
      },
      "source": [
        "**Multi penugasan**"
      ]
    },
    {
      "cell_type": "code",
      "metadata": {
        "id": "yC2G2U2kRf1b",
        "outputId": "d651a144-0b4a-42b1-c727-5ef68144dfad",
        "colab": {
          "base_uri": "https://localhost:8080/"
        }
      },
      "source": [
        "x = y = z = 3\n",
        "print(x)"
      ],
      "execution_count": 16,
      "outputs": [
        {
          "output_type": "stream",
          "text": [
            "3\n"
          ],
          "name": "stdout"
        }
      ]
    },
    {
      "cell_type": "code",
      "metadata": {
        "id": "vHktxxfqRlPh",
        "outputId": "864d27b7-4309-4ca9-d3a5-2617cf18641a",
        "colab": {
          "base_uri": "https://localhost:8080/"
        }
      },
      "source": [
        "a, b, c = 1, 3.4, \"Umar\"\n",
        "print(a)\n",
        "print(b)\n",
        "print(c)"
      ],
      "execution_count": 17,
      "outputs": [
        {
          "output_type": "stream",
          "text": [
            "1\n",
            "3.4\n",
            "Umar\n"
          ],
          "name": "stdout"
        }
      ]
    },
    {
      "cell_type": "markdown",
      "metadata": {
        "id": "TRdQACqFRury"
      },
      "source": [
        "**Tipe Data Python**"
      ]
    },
    {
      "cell_type": "markdown",
      "metadata": {
        "id": "lZ6O8UmaRwUJ"
      },
      "source": [
        "Bilangan (Number)"
      ]
    },
    {
      "cell_type": "code",
      "metadata": {
        "id": "QCsQHkWTRyFx",
        "outputId": "92713d09-40a2-4809-9a0d-3ff89ae0ecd0",
        "colab": {
          "base_uri": "https://localhost:8080/"
        }
      },
      "source": [
        "x = 5 \n",
        "print(x, \"tipenya adalah \", type(x))\n",
        "x = 2.0\n",
        "print(x, \"tipenya adalah \", type(x))\n",
        "x = 1+2j\n",
        "print(x, \"tipenya adalah \",type(x))"
      ],
      "execution_count": 18,
      "outputs": [
        {
          "output_type": "stream",
          "text": [
            "5 tipenya adalah  <class 'int'>\n",
            "2.0 tipenya adalah  <class 'float'>\n",
            "(1+2j) tipenya adalah  <class 'complex'>\n"
          ],
          "name": "stdout"
        }
      ]
    },
    {
      "cell_type": "code",
      "metadata": {
        "id": "m677_0hxSUPz",
        "outputId": "f2edfe08-5240-4a5a-be55-332916c5d42b",
        "colab": {
          "base_uri": "https://localhost:8080/"
        }
      },
      "source": [
        " a = 1234567899999999999999999999\n",
        " print(a)\n",
        "1234567899999999999999999999\n",
        " b = 0.123456789123456789\n",
        " print(b)\n",
        "0.12345678912345678\n",
        " c = 1+4j\n",
        " print(c)\n",
        "(1+4j)"
      ],
      "execution_count": 26,
      "outputs": [
        {
          "output_type": "stream",
          "text": [
            "1234567899999999999999999999\n",
            "0.12345678912345678\n",
            "(1+4j)\n"
          ],
          "name": "stdout"
        },
        {
          "output_type": "execute_result",
          "data": {
            "text/plain": [
              "(1+4j)"
            ]
          },
          "metadata": {
            "tags": []
          },
          "execution_count": 26
        }
      ]
    },
    {
      "cell_type": "markdown",
      "metadata": {
        "id": "2qog805dSWbo"
      },
      "source": [
        "String\n"
      ]
    },
    {
      "cell_type": "code",
      "metadata": {
        "id": "ue4S4FJ0SW8k",
        "outputId": "884719ed-22cd-4f73-f6a1-adddb1d9e600",
        "colab": {
          "base_uri": "https://localhost:8080/"
        }
      },
      "source": [
        "kalimat = \"Nama saya Umar\"\n",
        "print(kalimat) # print string lengkap\n",
        "print(kalimat[0]) # print karakter pertama\n",
        "print(kalimat[-1]) # print karakter terakhir\n",
        "print(kalimat[4:7]) # print dari indeks 4 - 6\n",
        "print(kalimat[:4]) # print dari indeks 0 - 3"
      ],
      "execution_count": 20,
      "outputs": [
        {
          "output_type": "stream",
          "text": [
            "Nama saya Umar\n",
            "N\n",
            "r\n",
            " sa\n",
            "Nama\n"
          ],
          "name": "stdout"
        }
      ]
    },
    {
      "cell_type": "markdown",
      "metadata": {
        "id": "1-JcF_3KSdAX"
      },
      "source": [
        "List\n"
      ]
    },
    {
      "cell_type": "code",
      "metadata": {
        "id": "Mb4tflwZSeSF",
        "outputId": "65d59d7d-6d7d-495c-c18c-b9ffad33b225",
        "colab": {
          "base_uri": "https://localhost:8080/"
        }
      },
      "source": [
        " lst = [1, 'dua', 3.0]\n",
        " print(lst)"
      ],
      "execution_count": 23,
      "outputs": [
        {
          "output_type": "stream",
          "text": [
            "[1, 'dua', 3.0]\n"
          ],
          "name": "stdout"
        }
      ]
    },
    {
      "cell_type": "markdown",
      "metadata": {
        "id": "veQ10xidS4Yl"
      },
      "source": [
        "Tuple"
      ]
    },
    {
      "cell_type": "code",
      "metadata": {
        "id": "kbIUObLZS40B",
        "outputId": "8aa05d4e-8bf4-4a0d-db5d-4e79c6fda376",
        "colab": {
          "base_uri": "https://localhost:8080/",
          "height": 268
        }
      },
      "source": [
        "white = (255,255, 255)\n",
        "red = (255,0,0)\n",
        "print(white)\n",
        "print(red[0])\n",
        "print(red[1])\n",
        "# akan menghasilkan error\n",
        "# tuple bersifat immutable\n",
        "red[0] = 128\n"
      ],
      "execution_count": 29,
      "outputs": [
        {
          "output_type": "stream",
          "text": [
            "(255, 255, 255)\n",
            "255\n",
            "0\n"
          ],
          "name": "stdout"
        },
        {
          "output_type": "error",
          "ename": "TypeError",
          "evalue": "ignored",
          "traceback": [
            "\u001b[0;31m---------------------------------------------------------------------------\u001b[0m",
            "\u001b[0;31mTypeError\u001b[0m                                 Traceback (most recent call last)",
            "\u001b[0;32m<ipython-input-29-cae886dfc4d0>\u001b[0m in \u001b[0;36m<module>\u001b[0;34m()\u001b[0m\n\u001b[1;32m      6\u001b[0m \u001b[0;31m# akan menghasilkan error\u001b[0m\u001b[0;34m\u001b[0m\u001b[0;34m\u001b[0m\u001b[0;34m\u001b[0m\u001b[0m\n\u001b[1;32m      7\u001b[0m \u001b[0;31m# tuple bersifat immutable\u001b[0m\u001b[0;34m\u001b[0m\u001b[0;34m\u001b[0m\u001b[0;34m\u001b[0m\u001b[0m\n\u001b[0;32m----> 8\u001b[0;31m \u001b[0mred\u001b[0m\u001b[0;34m[\u001b[0m\u001b[0;36m0\u001b[0m\u001b[0;34m]\u001b[0m \u001b[0;34m=\u001b[0m \u001b[0;36m128\u001b[0m\u001b[0;34m\u001b[0m\u001b[0;34m\u001b[0m\u001b[0m\n\u001b[0m",
            "\u001b[0;31mTypeError\u001b[0m: 'tuple' object does not support item assignment"
          ]
        }
      ]
    },
    {
      "cell_type": "markdown",
      "metadata": {
        "id": "i6VRmhTOTEQq"
      },
      "source": [
        "Set"
      ]
    },
    {
      "cell_type": "code",
      "metadata": {
        "id": "WWAnEwVETFaI",
        "outputId": "b694c2c0-cdd1-4d89-af4d-50551fd20272",
        "colab": {
          "base_uri": "https://localhost:8080/",
          "height": 286
        }
      },
      "source": [
        "# set integer \n",
        "my_set = {1,2,3} \n",
        "print(my_set) \n",
        "# set dengan menggunakan fungsi set() \n",
        "my_set = set([1,2,3]) \n",
        "print(my_set) \n",
        "# set data campuran \n",
        "my_set = {1, 2.0, \"Python\", (3,4,5)} \n",
        "print(my_set) \n",
        "# bila kita mengisi duplikasi, set akan menghilangkan salah satu \n",
        "# output: {1,2,3} \n",
        "my_set = {1,2,2,3,3,3} \n",
        "print(my_set) \n",
        "# set tidak bisa berisi anggota list \n",
        "# contoh berikut akan muncul error TypeError \n",
        "my_set = {1,2,[3,4,5]}"
      ],
      "execution_count": 30,
      "outputs": [
        {
          "output_type": "stream",
          "text": [
            "{1, 2, 3}\n",
            "{1, 2, 3}\n",
            "{1, 2.0, (3, 4, 5), 'Python'}\n",
            "{1, 2, 3}\n"
          ],
          "name": "stdout"
        },
        {
          "output_type": "error",
          "ename": "TypeError",
          "evalue": "ignored",
          "traceback": [
            "\u001b[0;31m---------------------------------------------------------------------------\u001b[0m",
            "\u001b[0;31mTypeError\u001b[0m                                 Traceback (most recent call last)",
            "\u001b[0;32m<ipython-input-30-959f6d69e1ca>\u001b[0m in \u001b[0;36m<module>\u001b[0;34m()\u001b[0m\n\u001b[1;32m     14\u001b[0m \u001b[0;31m# set tidak bisa berisi anggota list\u001b[0m\u001b[0;34m\u001b[0m\u001b[0;34m\u001b[0m\u001b[0;34m\u001b[0m\u001b[0m\n\u001b[1;32m     15\u001b[0m \u001b[0;31m# contoh berikut akan muncul error TypeError\u001b[0m\u001b[0;34m\u001b[0m\u001b[0;34m\u001b[0m\u001b[0;34m\u001b[0m\u001b[0m\n\u001b[0;32m---> 16\u001b[0;31m \u001b[0mmy_set\u001b[0m \u001b[0;34m=\u001b[0m \u001b[0;34m{\u001b[0m\u001b[0;36m1\u001b[0m\u001b[0;34m,\u001b[0m\u001b[0;36m2\u001b[0m\u001b[0;34m,\u001b[0m\u001b[0;34m[\u001b[0m\u001b[0;36m3\u001b[0m\u001b[0;34m,\u001b[0m\u001b[0;36m4\u001b[0m\u001b[0;34m,\u001b[0m\u001b[0;36m5\u001b[0m\u001b[0;34m]\u001b[0m\u001b[0;34m}\u001b[0m\u001b[0;34m\u001b[0m\u001b[0;34m\u001b[0m\u001b[0m\n\u001b[0m",
            "\u001b[0;31mTypeError\u001b[0m: unhashable type: 'list'"
          ]
        }
      ]
    },
    {
      "cell_type": "markdown",
      "metadata": {
        "id": "Fr1LhkCvTI4q"
      },
      "source": [
        "Dictionary"
      ]
    },
    {
      "cell_type": "code",
      "metadata": {
        "id": "AIfdSTw2TNrp",
        "outputId": "5eab1964-0cd5-42fa-9bd3-9d60f00d91f4",
        "colab": {
          "base_uri": "https://localhost:8080/",
          "height": 249
        }
      },
      "source": [
        "d = {1:'satu', 2:'dua', 'tiga':3}\n",
        "print(tipe(d))\n",
        "print(\"d[1] = \", d[1])\n",
        "print(\"d['tiga'] = \", d['tiga'])\n",
        "# Error\n",
        "print(\"d[3] = \", d[3])"
      ],
      "execution_count": 31,
      "outputs": [
        {
          "output_type": "error",
          "ename": "NameError",
          "evalue": "ignored",
          "traceback": [
            "\u001b[0;31m---------------------------------------------------------------------------\u001b[0m",
            "\u001b[0;31mNameError\u001b[0m                                 Traceback (most recent call last)",
            "\u001b[0;32m<ipython-input-31-d6da757d5e0e>\u001b[0m in \u001b[0;36m<module>\u001b[0;34m()\u001b[0m\n\u001b[1;32m      1\u001b[0m \u001b[0md\u001b[0m \u001b[0;34m=\u001b[0m \u001b[0;34m{\u001b[0m\u001b[0;36m1\u001b[0m\u001b[0;34m:\u001b[0m\u001b[0;34m'satu'\u001b[0m\u001b[0;34m,\u001b[0m \u001b[0;36m2\u001b[0m\u001b[0;34m:\u001b[0m\u001b[0;34m'dua'\u001b[0m\u001b[0;34m,\u001b[0m \u001b[0;34m'tiga'\u001b[0m\u001b[0;34m:\u001b[0m\u001b[0;36m3\u001b[0m\u001b[0;34m}\u001b[0m\u001b[0;34m\u001b[0m\u001b[0;34m\u001b[0m\u001b[0m\n\u001b[0;32m----> 2\u001b[0;31m \u001b[0mprint\u001b[0m\u001b[0;34m(\u001b[0m\u001b[0mtipe\u001b[0m\u001b[0;34m(\u001b[0m\u001b[0md\u001b[0m\u001b[0;34m)\u001b[0m\u001b[0;34m)\u001b[0m\u001b[0;34m\u001b[0m\u001b[0;34m\u001b[0m\u001b[0m\n\u001b[0m\u001b[1;32m      3\u001b[0m \u001b[0mprint\u001b[0m\u001b[0;34m(\u001b[0m\u001b[0;34m\"d[1] = \"\u001b[0m\u001b[0;34m,\u001b[0m \u001b[0md\u001b[0m\u001b[0;34m[\u001b[0m\u001b[0;36m1\u001b[0m\u001b[0;34m]\u001b[0m\u001b[0;34m)\u001b[0m\u001b[0;34m\u001b[0m\u001b[0;34m\u001b[0m\u001b[0m\n\u001b[1;32m      4\u001b[0m \u001b[0mprint\u001b[0m\u001b[0;34m(\u001b[0m\u001b[0;34m\"d['tiga'] = \"\u001b[0m\u001b[0;34m,\u001b[0m \u001b[0md\u001b[0m\u001b[0;34m[\u001b[0m\u001b[0;34m'tiga'\u001b[0m\u001b[0;34m]\u001b[0m\u001b[0;34m)\u001b[0m\u001b[0;34m\u001b[0m\u001b[0;34m\u001b[0m\u001b[0m\n\u001b[1;32m      5\u001b[0m \u001b[0;31m# Error\u001b[0m\u001b[0;34m\u001b[0m\u001b[0;34m\u001b[0m\u001b[0;34m\u001b[0m\u001b[0m\n",
            "\u001b[0;31mNameError\u001b[0m: name 'tipe' is not defined"
          ]
        }
      ]
    },
    {
      "cell_type": "markdown",
      "metadata": {
        "id": "vla53AwkUANn"
      },
      "source": [
        "**Operator Python**"
      ]
    },
    {
      "cell_type": "markdown",
      "metadata": {
        "id": "mcN8tyxEUK6m"
      },
      "source": [
        "Operator Aritmatika"
      ]
    },
    {
      "cell_type": "markdown",
      "metadata": {
        "id": "ezfCAathULoK"
      },
      "source": [
        "x + y\n",
        "x – y\n",
        "x * y\n",
        "x / y\n",
        "x **y\n",
        "x // y\n",
        "x % y\n"
      ]
    },
    {
      "cell_type": "markdown",
      "metadata": {
        "id": "t_LVePZ2UXh9"
      },
      "source": [
        "Operator Perbandingan"
      ]
    },
    {
      "cell_type": "code",
      "metadata": {
        "id": "ShGSDfEOUZNv",
        "outputId": "db01c4af-da38-4721-e86f-0f33882c9acb",
        "colab": {
          "base_uri": "https://localhost:8080/",
          "height": 249
        }
      },
      "source": [
        "x > y\n",
        "x < y\n",
        "x == y\n",
        "x != y\n",
        "x >= y\n",
        "x <= y\n"
      ],
      "execution_count": 32,
      "outputs": [
        {
          "output_type": "error",
          "ename": "TypeError",
          "evalue": "ignored",
          "traceback": [
            "\u001b[0;31m---------------------------------------------------------------------------\u001b[0m",
            "\u001b[0;31mTypeError\u001b[0m                                 Traceback (most recent call last)",
            "\u001b[0;32m<ipython-input-32-996eb0ca5dbb>\u001b[0m in \u001b[0;36m<module>\u001b[0;34m()\u001b[0m\n\u001b[0;32m----> 1\u001b[0;31m \u001b[0mx\u001b[0m \u001b[0;34m>\u001b[0m \u001b[0my\u001b[0m\u001b[0;34m\u001b[0m\u001b[0;34m\u001b[0m\u001b[0m\n\u001b[0m\u001b[1;32m      2\u001b[0m \u001b[0mx\u001b[0m \u001b[0;34m<\u001b[0m \u001b[0my\u001b[0m\u001b[0;34m\u001b[0m\u001b[0;34m\u001b[0m\u001b[0m\n\u001b[1;32m      3\u001b[0m \u001b[0mx\u001b[0m \u001b[0;34m==\u001b[0m \u001b[0my\u001b[0m\u001b[0;34m\u001b[0m\u001b[0;34m\u001b[0m\u001b[0m\n\u001b[1;32m      4\u001b[0m \u001b[0mx\u001b[0m \u001b[0;34m!=\u001b[0m \u001b[0my\u001b[0m\u001b[0;34m\u001b[0m\u001b[0;34m\u001b[0m\u001b[0m\n\u001b[1;32m      5\u001b[0m \u001b[0mx\u001b[0m \u001b[0;34m>=\u001b[0m \u001b[0my\u001b[0m\u001b[0;34m\u001b[0m\u001b[0;34m\u001b[0m\u001b[0m\n",
            "\u001b[0;31mTypeError\u001b[0m: '>' not supported between instances of 'complex' and 'int'"
          ]
        }
      ]
    },
    {
      "cell_type": "markdown",
      "metadata": {
        "id": "buxBk7FyUi7a"
      },
      "source": [
        "Operator Penugasan\n"
      ]
    },
    {
      "cell_type": "code",
      "metadata": {
        "id": "X0iej3UqUjiE",
        "outputId": "5b142779-88f6-432c-cd01-2ab7567f6c4f",
        "colab": {
          "base_uri": "https://localhost:8080/",
          "height": 137
        }
      },
      "source": [
        "c = a + b \n",
        "menugaskan a + b \n",
        "ke c\n",
        "c += a sama \n",
        "dengan c = c + a\n",
        "c -= a sama \n",
        "dengan c = c + a\n",
        "c *= a sama \n",
        "dengan c = c * a\n",
        "c /= a sama \n",
        "dengan c = c * a\n",
        "c **= a sama \n",
        "dengan c = c ** a\n",
        "c //= a sama \n",
        "dengan c = c // a\n",
        "c %= a sama \n",
        "dengan c = c % a\n"
      ],
      "execution_count": 34,
      "outputs": [
        {
          "output_type": "error",
          "ename": "SyntaxError",
          "evalue": "ignored",
          "traceback": [
            "\u001b[0;36m  File \u001b[0;32m\"<ipython-input-34-6f6797e4f3b6>\"\u001b[0;36m, line \u001b[0;32m2\u001b[0m\n\u001b[0;31m    menugaskan a + b\u001b[0m\n\u001b[0m               ^\u001b[0m\n\u001b[0;31mSyntaxError\u001b[0m\u001b[0;31m:\u001b[0m invalid syntax\n"
          ]
        }
      ]
    },
    {
      "cell_type": "markdown",
      "metadata": {
        "id": "8Y1mDfAUVOUX"
      },
      "source": [
        "Operator Logika\n"
      ]
    },
    {
      "cell_type": "code",
      "metadata": {
        "id": "-UUMH_WkVPrP",
        "outputId": "050e2801-3340-4380-d2ae-3e595955ae52",
        "colab": {
          "base_uri": "https://localhost:8080/"
        }
      },
      "source": [
        "x and y\n",
        "not x\n",
        "x or y"
      ],
      "execution_count": 33,
      "outputs": [
        {
          "output_type": "execute_result",
          "data": {
            "text/plain": [
              "(1+2j)"
            ]
          },
          "metadata": {
            "tags": []
          },
          "execution_count": 33
        }
      ]
    },
    {
      "cell_type": "markdown",
      "metadata": {
        "id": "aCvgSDeNVVpJ"
      },
      "source": [
        "Operator Bitwise"
      ]
    },
    {
      "cell_type": "code",
      "metadata": {
        "id": "oMeL1KngVYLd",
        "outputId": "a26c731a-5caf-46ab-aa00-e246c60d08fc",
        "colab": {
          "base_uri": "https://localhost:8080/",
          "height": 137
        }
      },
      "source": [
        "x& y = 0 (0000 0000)\n",
        "x | y = 14 (0000 1110)\n",
        "~x = -11 (1111 0101)\n",
        "x ^ y = 14 (0000 1110)\n",
        "x>> 2 = 2 (0000 0010)\n",
        "x<< 2 = 40 (0010 1000)"
      ],
      "execution_count": 35,
      "outputs": [
        {
          "output_type": "error",
          "ename": "SyntaxError",
          "evalue": "ignored",
          "traceback": [
            "\u001b[0;36m  File \u001b[0;32m\"<ipython-input-35-0eb252fa2c5d>\"\u001b[0;36m, line \u001b[0;32m1\u001b[0m\n\u001b[0;31m    x& y = 0 (0000 0000)\u001b[0m\n\u001b[0m                      ^\u001b[0m\n\u001b[0;31mSyntaxError\u001b[0m\u001b[0;31m:\u001b[0m invalid syntax\n"
          ]
        }
      ]
    },
    {
      "cell_type": "markdown",
      "metadata": {
        "id": "2RPww1OjVism"
      },
      "source": [
        "Operator Identitas"
      ]
    },
    {
      "cell_type": "code",
      "metadata": {
        "id": "cpniadzZVmXe",
        "outputId": "433e9033-2819-458c-f697-c8bf5b2f68b5",
        "colab": {
          "base_uri": "https://localhost:8080/"
        }
      },
      "source": [
        "x is True\n",
        "x is not True"
      ],
      "execution_count": 36,
      "outputs": [
        {
          "output_type": "execute_result",
          "data": {
            "text/plain": [
              "True"
            ]
          },
          "metadata": {
            "tags": []
          },
          "execution_count": 36
        }
      ]
    },
    {
      "cell_type": "markdown",
      "metadata": {
        "id": "7pa9bVodVrY3"
      },
      "source": [
        "Operator Keanggotaan"
      ]
    },
    {
      "cell_type": "code",
      "metadata": {
        "id": "2llBaNpJVr4c",
        "outputId": "626d6ed3-2386-4549-a241-44456c46b74b",
        "colab": {
          "base_uri": "https://localhost:8080/",
          "height": 193
        }
      },
      "source": [
        "5 in x\n",
        "5 not in x"
      ],
      "execution_count": 37,
      "outputs": [
        {
          "output_type": "error",
          "ename": "TypeError",
          "evalue": "ignored",
          "traceback": [
            "\u001b[0;31m---------------------------------------------------------------------------\u001b[0m",
            "\u001b[0;31mTypeError\u001b[0m                                 Traceback (most recent call last)",
            "\u001b[0;32m<ipython-input-37-4fdabdcc3ea6>\u001b[0m in \u001b[0;36m<module>\u001b[0;34m()\u001b[0m\n\u001b[0;32m----> 1\u001b[0;31m \u001b[0;36m5\u001b[0m \u001b[0;32min\u001b[0m \u001b[0mx\u001b[0m\u001b[0;34m\u001b[0m\u001b[0;34m\u001b[0m\u001b[0m\n\u001b[0m\u001b[1;32m      2\u001b[0m \u001b[0;36m5\u001b[0m \u001b[0;32mnot\u001b[0m \u001b[0;32min\u001b[0m \u001b[0mx\u001b[0m\u001b[0;34m\u001b[0m\u001b[0;34m\u001b[0m\u001b[0m\n",
            "\u001b[0;31mTypeError\u001b[0m: argument of type 'complex' is not iterable"
          ]
        }
      ]
    },
    {
      "cell_type": "markdown",
      "metadata": {
        "id": "qN2uJY3OVv-V"
      },
      "source": [
        "**Percabangan**"
      ]
    },
    {
      "cell_type": "markdown",
      "metadata": {
        "id": "9TuOuNVNVy4j"
      },
      "source": [
        "Pernyataan if"
      ]
    },
    {
      "cell_type": "code",
      "metadata": {
        "id": "8DALH6-gV0Sy",
        "outputId": "b1c7aac1-6675-4916-ca2e-b5c65fa7d007",
        "colab": {
          "base_uri": "https://localhost:8080/",
          "height": 137
        }
      },
      "source": [
        "if tes kondisi:\n",
        " blok pernyataan if\n"
      ],
      "execution_count": 38,
      "outputs": [
        {
          "output_type": "error",
          "ename": "SyntaxError",
          "evalue": "ignored",
          "traceback": [
            "\u001b[0;36m  File \u001b[0;32m\"<ipython-input-38-d2b4a6be9afe>\"\u001b[0;36m, line \u001b[0;32m1\u001b[0m\n\u001b[0;31m    if tes kondisi:\u001b[0m\n\u001b[0m                 ^\u001b[0m\n\u001b[0;31mSyntaxError\u001b[0m\u001b[0;31m:\u001b[0m invalid syntax\n"
          ]
        }
      ]
    },
    {
      "cell_type": "code",
      "metadata": {
        "id": "sReOMSTJWECB"
      },
      "source": [
        "5 adalah bilangan positif"
      ],
      "execution_count": null,
      "outputs": []
    },
    {
      "cell_type": "markdown",
      "metadata": {
        "id": "9a0-sxPPWEzF"
      },
      "source": [
        "**Pernyataan if…else**"
      ]
    },
    {
      "cell_type": "code",
      "metadata": {
        "id": "CcU3orufWHxz",
        "outputId": "64ff04ff-84ee-41e3-fc76-88a18b9d4f4d",
        "colab": {
          "base_uri": "https://localhost:8080/",
          "height": 137
        }
      },
      "source": [
        "if tes kondisi:\n",
        " blok pernyataan if\n",
        "else:\n",
        " blok pernyataan else\n"
      ],
      "execution_count": 39,
      "outputs": [
        {
          "output_type": "error",
          "ename": "SyntaxError",
          "evalue": "ignored",
          "traceback": [
            "\u001b[0;36m  File \u001b[0;32m\"<ipython-input-39-05c252ce66c3>\"\u001b[0;36m, line \u001b[0;32m1\u001b[0m\n\u001b[0;31m    if tes kondisi:\u001b[0m\n\u001b[0m                 ^\u001b[0m\n\u001b[0;31mSyntaxError\u001b[0m\u001b[0;31m:\u001b[0m invalid syntax\n"
          ]
        }
      ]
    },
    {
      "cell_type": "code",
      "metadata": {
        "id": "TnpMVGHIWVA9",
        "outputId": "dab65864-ceb1-48e2-ae5c-526cb38dabef",
        "colab": {
          "base_uri": "https://localhost:8080/"
        }
      },
      "source": [
        "# Program menguji apakah sebuah bilangan positif atau negatif\n",
        "# dan menampilkan pesan ke monitor\n",
        "bilangan = 5\n",
        "# coba juga mengubah bilangan menjadi bilangan = -1\n",
        "# dan perhatikan hasilnya\n",
        "if bilangan >= 0:\n",
        " print(\"Positif atau Nol\")\n",
        "else:\n",
        " print(\"Bilangan negatif\")\n"
      ],
      "execution_count": 42,
      "outputs": [
        {
          "output_type": "stream",
          "text": [
            "Positif atau Nol\n"
          ],
          "name": "stdout"
        }
      ]
    },
    {
      "cell_type": "markdown",
      "metadata": {
        "id": "HBhXEGqNWKaI"
      },
      "source": [
        "**Pernyataan if…elif…else…**"
      ]
    },
    {
      "cell_type": "code",
      "metadata": {
        "id": "F48RwvJQWMoa",
        "outputId": "8ce9de26-8cc2-43c3-ff84-84686f09bc04",
        "colab": {
          "base_uri": "https://localhost:8080/",
          "height": 137
        }
      },
      "source": [
        "if tes kondisi:\n",
        " blok pernyataan if\n",
        "elif tes kondisi:\n",
        " blok pernyataan elif\n",
        "else:\n",
        " blok pernyataan else\n"
      ],
      "execution_count": 40,
      "outputs": [
        {
          "output_type": "error",
          "ename": "SyntaxError",
          "evalue": "ignored",
          "traceback": [
            "\u001b[0;36m  File \u001b[0;32m\"<ipython-input-40-ef71f66032ae>\"\u001b[0;36m, line \u001b[0;32m1\u001b[0m\n\u001b[0;31m    if tes kondisi:\u001b[0m\n\u001b[0m                 ^\u001b[0m\n\u001b[0;31mSyntaxError\u001b[0m\u001b[0;31m:\u001b[0m invalid syntax\n"
          ]
        }
      ]
    },
    {
      "cell_type": "code",
      "metadata": {
        "id": "k_AR8Wq-WQbx",
        "outputId": "a6ceb5b4-a2fc-48a9-e236-e857a17055c5",
        "colab": {
          "base_uri": "https://localhost:8080/"
        }
      },
      "source": [
        "# Di sini kita menguji apakah sebuah bilangan\n",
        "# adalah bilangan positif, nol, atau negatif\n",
        "# dan menampilkan hasilnya ke layar\n",
        "bilangan = 5.5\n",
        "# Coba juga mengganti bilangan jadi\n",
        "# bilangan = 0\n",
        "# bilangan = -5.5\n",
        "if bilangan > 0:\n",
        " print(\"Bilangan positif\")\n",
        "elif bilangan == 0:\n",
        " print(\"Nol\")"
      ],
      "execution_count": 41,
      "outputs": [
        {
          "output_type": "stream",
          "text": [
            "Bilangan positif\n"
          ],
          "name": "stdout"
        }
      ]
    },
    {
      "cell_type": "markdown",
      "metadata": {
        "id": "8B3HLxpTWbW_"
      },
      "source": [
        "**Perulangan**"
      ]
    },
    {
      "cell_type": "markdown",
      "metadata": {
        "id": "3eLyQ-DkWeJu"
      },
      "source": [
        "Perulangan Dengan Menggunakan For\n"
      ]
    },
    {
      "cell_type": "code",
      "metadata": {
        "id": "SHQiuO-RWetF",
        "outputId": "95d03a8b-0617-429f-ece6-15b39f144df9",
        "colab": {
          "base_uri": "https://localhost:8080/"
        }
      },
      "source": [
        "# Program untuk menemukan jumlah bilangan dalam satu list\n",
        "# List number\n",
        "numbers = [7, 5, 9, 8, 4, 2, 6, 4, 1]\n",
        "# variablel untuk menyimpan jumlah\n",
        "sum = 0\n",
        "# iterasi\n",
        "for each in numbers:\n",
        " sum = sum + each\n",
        "# Output: Jumlah semuanya: 46\n",
        "print(\"Jumlah semuanya:\", sum)\n"
      ],
      "execution_count": 43,
      "outputs": [
        {
          "output_type": "stream",
          "text": [
            "Jumlah semuanya: 46\n"
          ],
          "name": "stdout"
        }
      ]
    },
    {
      "cell_type": "code",
      "metadata": {
        "id": "GhQrz2NsWg2-",
        "outputId": "1e2f3766-b238-462b-8b0f-e91e8ebe9068",
        "colab": {
          "base_uri": "https://localhost:8080/"
        }
      },
      "source": [
        "# Program untuk iterasi list menggunakan pengindeksan\n",
        "mapel = ['matematika', 'fisika', 'kimia']\n",
        "# iterasi list menggunakan indeks\n",
        "for i in range(len(mapel)):\n",
        " print(\"Saya suka\", mapel[i])"
      ],
      "execution_count": 44,
      "outputs": [
        {
          "output_type": "stream",
          "text": [
            "Saya suka matematika\n",
            "Saya suka fisika\n",
            "Saya suka kimia\n"
          ],
          "name": "stdout"
        }
      ]
    },
    {
      "cell_type": "markdown",
      "metadata": {
        "id": "6mzCUOF6WjrU"
      },
      "source": [
        "Perulangan Menggunakan while"
      ]
    },
    {
      "cell_type": "code",
      "metadata": {
        "id": "pn4tQFuLWlIs",
        "outputId": "6c6ed575-eeea-408d-c94f-6918fc45c544",
        "colab": {
          "base_uri": "https://localhost:8080/"
        }
      },
      "source": [
        "count = 0\n",
        "while (count < 5):\n",
        " print('The count is:', count)\n",
        " count = count + 1\n",
        "print('Good bye!')\n"
      ],
      "execution_count": 45,
      "outputs": [
        {
          "output_type": "stream",
          "text": [
            "The count is: 0\n",
            "The count is: 1\n",
            "The count is: 2\n",
            "The count is: 3\n",
            "The count is: 4\n",
            "Good bye!\n"
          ],
          "name": "stdout"
        }
      ]
    },
    {
      "cell_type": "markdown",
      "metadata": {
        "id": "ctCI4PU4WpQn"
      },
      "source": [
        "Infinite Loop"
      ]
    },
    {
      "cell_type": "code",
      "metadata": {
        "id": "l-nNTDvkWp1Z",
        "outputId": "62c5da5b-9496-479d-c15f-6164c3446e48",
        "colab": {
          "base_uri": "https://localhost:8080/",
          "height": 137
        }
      },
      "source": [
        "The count is: 0\n",
        "The count is: 0\n",
        "The count is: 0\n",
        "The count is: 0\n",
        "The count is: 0\n",
        "print('The count is:', count)"
      ],
      "execution_count": 47,
      "outputs": [
        {
          "output_type": "error",
          "ename": "SyntaxError",
          "evalue": "ignored",
          "traceback": [
            "\u001b[0;36m  File \u001b[0;32m\"<ipython-input-47-b73e20d1804a>\"\u001b[0;36m, line \u001b[0;32m1\u001b[0m\n\u001b[0;31m    The count is: 0\u001b[0m\n\u001b[0m            ^\u001b[0m\n\u001b[0;31mSyntaxError\u001b[0m\u001b[0;31m:\u001b[0m invalid syntax\n"
          ]
        }
      ]
    },
    {
      "cell_type": "markdown",
      "metadata": {
        "id": "1lyZETizWzJj"
      },
      "source": [
        "Kendali Looping"
      ]
    },
    {
      "cell_type": "code",
      "metadata": {
        "id": "4tNhzSeaWzql",
        "outputId": "1777e247-3650-43af-c17a-61cdf19240be",
        "colab": {
          "base_uri": "https://localhost:8080/",
          "height": 137
        }
      },
      "source": [
        "# contoh penggunaan statement break\n",
        "for letter in \"Programming\":\n",
        " if letter == \"g\":\n",
        " break\n",
        " print(\"Huruf sekarang:\", letter)\n",
        "print(\"Good bye\")"
      ],
      "execution_count": 48,
      "outputs": [
        {
          "output_type": "error",
          "ename": "IndentationError",
          "evalue": "ignored",
          "traceback": [
            "\u001b[0;36m  File \u001b[0;32m\"<ipython-input-48-74d2efe4dfc5>\"\u001b[0;36m, line \u001b[0;32m4\u001b[0m\n\u001b[0;31m    break\u001b[0m\n\u001b[0m        ^\u001b[0m\n\u001b[0;31mIndentationError\u001b[0m\u001b[0;31m:\u001b[0m expected an indented block\n"
          ]
        }
      ]
    },
    {
      "cell_type": "markdown",
      "metadata": {
        "id": "dTcZXbqRXKI9"
      },
      "source": [
        "while else"
      ]
    },
    {
      "cell_type": "code",
      "metadata": {
        "id": "lo-77VIJXKtr",
        "outputId": "8b1a651b-000e-405f-cc01-a389245f55a1",
        "colab": {
          "base_uri": "https://localhost:8080/"
        }
      },
      "source": [
        "count = 0\n",
        "while (count < 5):\n",
        " print(count, \"kurang dari 5\")\n",
        " count = count + 1\n",
        "else:\n",
        " print(count, \"tidak kurang dari 5\")\n"
      ],
      "execution_count": 50,
      "outputs": [
        {
          "output_type": "stream",
          "text": [
            "0 kurang dari 5\n",
            "1 kurang dari 5\n",
            "2 kurang dari 5\n",
            "3 kurang dari 5\n",
            "4 kurang dari 5\n",
            "5 tidak kurang dari 5\n"
          ],
          "name": "stdout"
        }
      ]
    },
    {
      "cell_type": "markdown",
      "metadata": {
        "id": "ujnitB0YXOwW"
      },
      "source": [
        "**Bilangan (Number)**"
      ]
    },
    {
      "cell_type": "markdown",
      "metadata": {
        "id": "HVdgreDDXTr8"
      },
      "source": [
        "Konversi Jenis Bilangan"
      ]
    },
    {
      "cell_type": "code",
      "metadata": {
        "id": "BHFDHcCDXUGu",
        "outputId": "f38f409d-88b4-474c-dbb3-5beaf6942318",
        "colab": {
          "base_uri": "https://localhost:8080/"
        }
      },
      "source": [
        "int(2.5)\n",
        "2\n",
        "int(3.8)\n",
        "3\n",
        "float(5)\n",
        "5.0"
      ],
      "execution_count": 52,
      "outputs": [
        {
          "output_type": "execute_result",
          "data": {
            "text/plain": [
              "5.0"
            ]
          },
          "metadata": {
            "tags": []
          },
          "execution_count": 52
        }
      ]
    },
    {
      "cell_type": "markdown",
      "metadata": {
        "id": "rojfU4vHXaft"
      },
      "source": [
        "Python Decimal"
      ]
    },
    {
      "cell_type": "code",
      "metadata": {
        "id": "DlMUrYI_XbKh",
        "outputId": "74cbfd5e-d56c-4fcd-b8d0-67aa2daa1f37",
        "colab": {
          "base_uri": "https://localhost:8080/",
          "height": 249
        }
      },
      "source": [
        "import decimal\n",
        "#output: 0.1\n",
        "print(0.1)\n",
        "#output: \n",
        "Decimal('0.1000000000000000055511151231257827021181583404541015625')\n",
        "print(decimal.Decimal(0.1))\n",
        "Modul ini juga membuat kita bisa melakukan perhitungan seperti di sekolah.\n",
        "from decimal import Decimal as D\n",
        "#output: Decimal('3.3')\n",
        "print(D('1.1') + D('2.2'))\n",
        "#output: Decimal('3.000')\n",
        "print(D('1.2') * D('2.50'))"
      ],
      "execution_count": 56,
      "outputs": [
        {
          "output_type": "stream",
          "text": [
            "0.1\n"
          ],
          "name": "stdout"
        },
        {
          "output_type": "error",
          "ename": "NameError",
          "evalue": "ignored",
          "traceback": [
            "\u001b[0;31m---------------------------------------------------------------------------\u001b[0m",
            "\u001b[0;31mNameError\u001b[0m                                 Traceback (most recent call last)",
            "\u001b[0;32m<ipython-input-56-fce0786f73af>\u001b[0m in \u001b[0;36m<module>\u001b[0;34m()\u001b[0m\n\u001b[1;32m      3\u001b[0m \u001b[0mprint\u001b[0m\u001b[0;34m(\u001b[0m\u001b[0;36m0.1\u001b[0m\u001b[0;34m)\u001b[0m\u001b[0;34m\u001b[0m\u001b[0;34m\u001b[0m\u001b[0m\n\u001b[1;32m      4\u001b[0m \u001b[0;31m#output:\u001b[0m\u001b[0;34m\u001b[0m\u001b[0;34m\u001b[0m\u001b[0;34m\u001b[0m\u001b[0m\n\u001b[0;32m----> 5\u001b[0;31m \u001b[0mDecimal\u001b[0m\u001b[0;34m(\u001b[0m\u001b[0;34m'0.1000000000000000055511151231257827021181583404541015625'\u001b[0m\u001b[0;34m)\u001b[0m\u001b[0;34m\u001b[0m\u001b[0;34m\u001b[0m\u001b[0m\n\u001b[0m\u001b[1;32m      6\u001b[0m \u001b[0mprint\u001b[0m\u001b[0;34m(\u001b[0m\u001b[0mdecimal\u001b[0m\u001b[0;34m.\u001b[0m\u001b[0mDecimal\u001b[0m\u001b[0;34m(\u001b[0m\u001b[0;36m0.1\u001b[0m\u001b[0;34m)\u001b[0m\u001b[0;34m)\u001b[0m\u001b[0;34m\u001b[0m\u001b[0;34m\u001b[0m\u001b[0m\n",
            "\u001b[0;31mNameError\u001b[0m: name 'Decimal' is not defined"
          ]
        }
      ]
    },
    {
      "cell_type": "markdown",
      "metadata": {
        "id": "OE5obwohXklJ"
      },
      "source": [
        "Bilangan Pecahan"
      ]
    },
    {
      "cell_type": "code",
      "metadata": {
        "id": "sBquHfBNXmOi",
        "outputId": "ddd09f5e-ef6e-4584-814e-758b176d2bcf",
        "colab": {
          "base_uri": "https://localhost:8080/"
        }
      },
      "source": [
        "import fractions \n",
        "#output: 3/2 \n",
        "print(fractions.Fraction(1.5)) \n",
        "#output: 1/3 \n",
        "print(fractions.Fraction(1,3))\n"
      ],
      "execution_count": 55,
      "outputs": [
        {
          "output_type": "stream",
          "text": [
            "3/2\n",
            "1/3\n"
          ],
          "name": "stdout"
        }
      ]
    },
    {
      "cell_type": "code",
      "metadata": {
        "id": "IljhpZkSXuRs",
        "outputId": "c50f082a-57f7-48de-bd04-96cf4dc2f81b",
        "colab": {
          "base_uri": "https://localhost:8080/"
        }
      },
      "source": [
        "from fractions import Fraction as F \n",
        "# Output: 2/3 \n",
        "print(F(1,3) + F(1,3)) \n",
        "# Output: 6/5 \n",
        "print(1 / F(5,6)) \n",
        "# Output True \n",
        "print(F(-3,10) < 0)\n"
      ],
      "execution_count": 57,
      "outputs": [
        {
          "output_type": "stream",
          "text": [
            "2/3\n",
            "6/5\n",
            "True\n"
          ],
          "name": "stdout"
        }
      ]
    },
    {
      "cell_type": "markdown",
      "metadata": {
        "id": "bpGxizj6XwZd"
      },
      "source": [
        "Matematika Dengan Python"
      ]
    },
    {
      "cell_type": "code",
      "metadata": {
        "id": "kr77eXaUXw2z",
        "outputId": "68136a32-ac7f-4ffa-8b91-2faca764ef67",
        "colab": {
          "base_uri": "https://localhost:8080/"
        }
      },
      "source": [
        "import math \n",
        "# Output: 3.141592653589793 \n",
        "print(math.pi) \n",
        "# Output: -1.0 \n",
        "print(math.cos(math.pi)) \n",
        "# Output: 148.4131591025766 \n",
        "print(math.exp(5)) \n",
        "# Output: 2.0 \n",
        "print(math.log10(100)) \n",
        "# Output: 120 \n",
        "print(math.factorial(5))"
      ],
      "execution_count": 58,
      "outputs": [
        {
          "output_type": "stream",
          "text": [
            "3.141592653589793\n",
            "-1.0\n",
            "148.4131591025766\n",
            "2.0\n",
            "120\n"
          ],
          "name": "stdout"
        }
      ]
    },
    {
      "cell_type": "markdown",
      "metadata": {
        "id": "eF8Gn4JYXzoa"
      },
      "source": [
        "**String**"
      ]
    },
    {
      "cell_type": "markdown",
      "metadata": {
        "id": "A9S-YNhQX3uR"
      },
      "source": [
        "Mengakses Nilai String"
      ]
    },
    {
      "cell_type": "code",
      "metadata": {
        "id": "vYx4rCgLX1Gl",
        "outputId": "cd61d131-4d71-425b-f0c9-f207912388de",
        "colab": {
          "base_uri": "https://localhost:8080/"
        }
      },
      "source": [
        "var1 = 'Hello Python!' \n",
        "var2 = \"I love Python\" \n",
        "print(\"var1[0]\", var1[0]) \n",
        "print(\"var2[2:6]:\",var2[2:6])"
      ],
      "execution_count": 59,
      "outputs": [
        {
          "output_type": "stream",
          "text": [
            "var1[0] H\n",
            "var2[2:6]: love\n"
          ],
          "name": "stdout"
        }
      ]
    },
    {
      "cell_type": "markdown",
      "metadata": {
        "id": "DWoZzFzxX5OL"
      },
      "source": [
        "Mengupdate String"
      ]
    },
    {
      "cell_type": "code",
      "metadata": {
        "id": "PSzqXQ5yX6v_",
        "outputId": "9b10e7bd-c267-42ac-f501-4f56d80c1459",
        "colab": {
          "base_uri": "https://localhost:8080/"
        }
      },
      "source": [
        "var1 = 'Hello Python!' \n",
        "var2 = var1[:6] \n",
        "print(\"String Update: - \", var1[:6] + 'World')\n"
      ],
      "execution_count": 60,
      "outputs": [
        {
          "output_type": "stream",
          "text": [
            "String Update: -  Hello World\n"
          ],
          "name": "stdout"
        }
      ]
    },
    {
      "cell_type": "markdown",
      "metadata": {
        "id": "caY97ZVuYCX0"
      },
      "source": [
        "Menggabung String\n"
      ]
    },
    {
      "cell_type": "code",
      "metadata": {
        "id": "LKHQMduQYC_T",
        "outputId": "df047beb-6959-4789-a5e6-19bfe6e08c55",
        "colab": {
          "base_uri": "https://localhost:8080/"
        }
      },
      "source": [
        "str1 = 'Hello' \n",
        "str2 = 'Python' \n",
        "# menggunakan + \n",
        "print('str1 + str2 =', str1 + str2) \n",
        "# menggunakan * \n",
        "print('str1 * 3 =', str1 * 3)"
      ],
      "execution_count": 61,
      "outputs": [
        {
          "output_type": "stream",
          "text": [
            "str1 + str2 = HelloPython\n",
            "str1 * 3 = HelloHelloHello\n"
          ],
          "name": "stdout"
        }
      ]
    },
    {
      "cell_type": "markdown",
      "metadata": {
        "id": "u5zmuX2iYF5b"
      },
      "source": [
        "Menguji Keanggotaan Karakter Dalam String"
      ]
    },
    {
      "cell_type": "code",
      "metadata": {
        "id": "xs9HHSbGYGRf",
        "outputId": "fea74a95-9541-4830-d7c4-bd9cfb415e99",
        "colab": {
          "base_uri": "https://localhost:8080/"
        }
      },
      "source": [
        ">>> 'a' in 'Programming'\n",
        "True\n",
        ">>> 'at' not in 'battle'\n",
        "False"
      ],
      "execution_count": 62,
      "outputs": [
        {
          "output_type": "execute_result",
          "data": {
            "text/plain": [
              "False"
            ]
          },
          "metadata": {
            "tags": []
          },
          "execution_count": 62
        }
      ]
    },
    {
      "cell_type": "markdown",
      "metadata": {
        "id": "yhvXxQBiYKtU"
      },
      "source": [
        "Mengetahui Panjang String"
      ]
    },
    {
      "cell_type": "code",
      "metadata": {
        "id": "DB9udFlJYNQh",
        "outputId": "dc1a4d97-ebb0-4bfb-e184-8c31482a82e7",
        "colab": {
          "base_uri": "https://localhost:8080/"
        }
      },
      "source": [
        ">>> string = 'I love Python'\n",
        ">>> len(string)\n",
        "18\n"
      ],
      "execution_count": 63,
      "outputs": [
        {
          "output_type": "execute_result",
          "data": {
            "text/plain": [
              "18"
            ]
          },
          "metadata": {
            "tags": []
          },
          "execution_count": 63
        }
      ]
    },
    {
      "cell_type": "markdown",
      "metadata": {
        "id": "q7vDCVBrYPwF"
      },
      "source": [
        "Karakter Escape\n"
      ]
    },
    {
      "cell_type": "code",
      "metadata": {
        "id": "7ZmHzeRiYQQi",
        "outputId": "dbf36076-494c-4a63-9cbd-ffd773bf2643",
        "colab": {
          "base_uri": "https://localhost:8080/",
          "height": 137
        }
      },
      "source": [
        ">>> print(\"He said, \"What's there?\"\")\n",
        "...\n",
        "SyntaxError: invalid syntax\n",
        ">>> print('He said, \"What's there?\"')\n",
        "...\n",
        "SyntaxError: invalid syntax"
      ],
      "execution_count": 64,
      "outputs": [
        {
          "output_type": "error",
          "ename": "SyntaxError",
          "evalue": "ignored",
          "traceback": [
            "\u001b[0;36m  File \u001b[0;32m\"<ipython-input-64-0b0836c867e7>\"\u001b[0;36m, line \u001b[0;32m1\u001b[0m\n\u001b[0;31m    print(\"He said, \"What's there?\"\")\u001b[0m\n\u001b[0m                        ^\u001b[0m\n\u001b[0;31mSyntaxError\u001b[0m\u001b[0;31m:\u001b[0m invalid syntax\n"
          ]
        }
      ]
    },
    {
      "cell_type": "code",
      "metadata": {
        "id": "uaHsazg8YWgD",
        "outputId": "b4ef2464-c1bf-4b35-bccd-42a51f7ee254",
        "colab": {
          "base_uri": "https://localhost:8080/"
        }
      },
      "source": [
        "# menggunakan kutip tiga\n",
        "print('''He said, \"What's there?\"''')\n",
        "# menggunakan karakter escape untuk tanda kutip tunggal\n",
        "print('He said, \"What\\'s there?\"')\n",
        "# menggunakan karakter escape untuk tanda kutip ganda\n",
        "print(\"He said, \\\"What's there?\\\"\")\n"
      ],
      "execution_count": 65,
      "outputs": [
        {
          "output_type": "stream",
          "text": [
            "He said, \"What's there?\"\n",
            "He said, \"What's there?\"\n",
            "He said, \"What's there?\"\n"
          ],
          "name": "stdout"
        }
      ]
    },
    {
      "cell_type": "markdown",
      "metadata": {
        "id": "o6EnqmgoYc3K"
      },
      "source": [
        "Mengatur Format String\n"
      ]
    },
    {
      "cell_type": "markdown",
      "metadata": {
        "id": "ZTwfLFG6Ydqj"
      },
      "source": [
        "Metode format()"
      ]
    },
    {
      "cell_type": "code",
      "metadata": {
        "id": "eeA1BClnYj_h",
        "outputId": "e49a6f9b-6f9f-4c9c-abad-a6b7bd9bf55d",
        "colab": {
          "base_uri": "https://localhost:8080/",
          "height": 361
        }
      },
      "source": [
        "# menggunakan posisi default \n",
        "default_order = \"{}, {} dan {}\".format(\"Budi\", \"Galih\",\"Ratna\") \n",
        "print('\\n--- Urutan default ---') \n",
        "print(default_order) \n",
        "# menggunakan argument posisi \n",
        "positional_order = \"{1}, {0} dan {2}\".format(\"Budi\", \"Galih\",\"Ratna\") \n",
        "print('\\n--- Urutan berdasarkan posisi ---') \n",
        "print(positional_order) \n",
        "# menggunakan argumen kata kunci \n",
        "keyword_order = \"{r}, {b} dan {g}\".format(\"Budi\", \"Galih\",\"Ratna\") \n",
        "print('\\n--- Urutan berdasarkan kata kunci ---') \n",
        "print(keyword_order)"
      ],
      "execution_count": 66,
      "outputs": [
        {
          "output_type": "stream",
          "text": [
            "\n",
            "--- Urutan default ---\n",
            "Budi, Galih dan Ratna\n",
            "\n",
            "--- Urutan berdasarkan posisi ---\n",
            "Galih, Budi dan Ratna\n"
          ],
          "name": "stdout"
        },
        {
          "output_type": "error",
          "ename": "KeyError",
          "evalue": "ignored",
          "traceback": [
            "\u001b[0;31m---------------------------------------------------------------------------\u001b[0m",
            "\u001b[0;31mKeyError\u001b[0m                                  Traceback (most recent call last)",
            "\u001b[0;32m<ipython-input-66-adebe024545c>\u001b[0m in \u001b[0;36m<module>\u001b[0;34m()\u001b[0m\n\u001b[1;32m      8\u001b[0m \u001b[0mprint\u001b[0m\u001b[0;34m(\u001b[0m\u001b[0mpositional_order\u001b[0m\u001b[0;34m)\u001b[0m\u001b[0;34m\u001b[0m\u001b[0;34m\u001b[0m\u001b[0m\n\u001b[1;32m      9\u001b[0m \u001b[0;31m# menggunakan argumen kata kunci\u001b[0m\u001b[0;34m\u001b[0m\u001b[0;34m\u001b[0m\u001b[0;34m\u001b[0m\u001b[0m\n\u001b[0;32m---> 10\u001b[0;31m \u001b[0mkeyword_order\u001b[0m \u001b[0;34m=\u001b[0m \u001b[0;34m\"{r}, {b} dan {g}\"\u001b[0m\u001b[0;34m.\u001b[0m\u001b[0mformat\u001b[0m\u001b[0;34m(\u001b[0m\u001b[0;34m\"Budi\"\u001b[0m\u001b[0;34m,\u001b[0m \u001b[0;34m\"Galih\"\u001b[0m\u001b[0;34m,\u001b[0m\u001b[0;34m\"Ratna\"\u001b[0m\u001b[0;34m)\u001b[0m\u001b[0;34m\u001b[0m\u001b[0;34m\u001b[0m\u001b[0m\n\u001b[0m\u001b[1;32m     11\u001b[0m \u001b[0mprint\u001b[0m\u001b[0;34m(\u001b[0m\u001b[0;34m'\\n--- Urutan berdasarkan kata kunci ---'\u001b[0m\u001b[0;34m)\u001b[0m\u001b[0;34m\u001b[0m\u001b[0;34m\u001b[0m\u001b[0m\n\u001b[1;32m     12\u001b[0m \u001b[0mprint\u001b[0m\u001b[0;34m(\u001b[0m\u001b[0mkeyword_order\u001b[0m\u001b[0;34m)\u001b[0m\u001b[0;34m\u001b[0m\u001b[0;34m\u001b[0m\u001b[0m\n",
            "\u001b[0;31mKeyError\u001b[0m: 'r'"
          ]
        }
      ]
    },
    {
      "cell_type": "code",
      "metadata": {
        "id": "NTRllPORYq1n",
        "outputId": "2a9984b6-2c89-4ead-dafc-a13271e5ad04",
        "colab": {
          "base_uri": "https://localhost:8080/",
          "height": 36
        }
      },
      "source": [
        ">>> # format integer\n",
        ">>> \"{0} bila diubah jadi biner menjadi {0:b}\".format(12)\n",
        "'12 bila diubah jadi biner menjadi 1100'\n",
        ">>> # format float\n",
        ">>> \"Format eksponensial: {0:e}\".format(1566.345)\n",
        "'Format eksponensial: 1566345e+03'\n",
        ">>> # pembulatan\n",
        ">>> \"Sepertiga sama dengan: {0:.3f}\".format(1/3)\n",
        "'Sepertiga sama dengan: 0.333'\n",
        ">>> # Meratakan string\n",
        ">>> \"|{:<10}|{:^10}|{:>10}|\".format('beras', 'gula', 'garam')\n",
        "'|beras | gula | garam|'"
      ],
      "execution_count": 67,
      "outputs": [
        {
          "output_type": "execute_result",
          "data": {
            "application/vnd.google.colaboratory.intrinsic+json": {
              "type": "string"
            },
            "text/plain": [
              "'|beras | gula | garam|'"
            ]
          },
          "metadata": {
            "tags": []
          },
          "execution_count": 67
        }
      ]
    },
    {
      "cell_type": "markdown",
      "metadata": {
        "id": "qZJTP_hsYtK0"
      },
      "source": [
        "Format Cara Lama Dengan %"
      ]
    },
    {
      "cell_type": "code",
      "metadata": {
        "id": "ss5bjGR-YttK",
        "outputId": "db723125-4817-423e-c8ee-27e04c8849fa",
        "colab": {
          "base_uri": "https://localhost:8080/",
          "height": 137
        }
      },
      "source": [
        ">>> nama = 'Budi'\n",
        ">>> print('Nama saya %s' %s)\n",
        "Nama saya Budi\n",
        ">>> x = 12.3456789\n",
        ">>> print('Nilai x = %3.2f' %x)\n",
        "Nilai x = 12.35\n",
        ">>> print('Nilai x = %3.4f' %x)\n",
        "Nilai x = 12.3456"
      ],
      "execution_count": 68,
      "outputs": [
        {
          "output_type": "error",
          "ename": "SyntaxError",
          "evalue": "ignored",
          "traceback": [
            "\u001b[0;36m  File \u001b[0;32m\"<ipython-input-68-f1db3a9327d7>\"\u001b[0;36m, line \u001b[0;32m3\u001b[0m\n\u001b[0;31m    Nama saya Budi\u001b[0m\n\u001b[0m            ^\u001b[0m\n\u001b[0;31mSyntaxError\u001b[0m\u001b[0;31m:\u001b[0m invalid syntax\n"
          ]
        }
      ]
    },
    {
      "cell_type": "markdown",
      "metadata": {
        "id": "5Utp5OhAZIQ9"
      },
      "source": [
        "Metode / Fungsi Bawaan String"
      ]
    },
    {
      "cell_type": "code",
      "metadata": {
        "id": "ihw2w8IBZLXP",
        "outputId": "e5eb3bf0-c5c7-4159-bbf1-0f0c44dfa530",
        "colab": {
          "base_uri": "https://localhost:8080/",
          "height": 137
        }
      },
      "source": [
        ">>> \"PythonIndo\".lower()\n",
        "'pythonindo'\n",
        ">>> \"Pythonindo\".upper()\n",
        "'PYTHONINDO'\n",
        ">>> \"I love programming in Python\".split()\n",
        "['I', 'love', 'programming', 'in', 'Python']\n",
        ">>> \"I love Python\".startswith(\"I\")\n",
        "True\n",
        ">>> \"Saya belajar Python\".endswith(\"on\")\n",
        "True\n",
        ">>> ' - '.join(['I', 'love', 'you'])\n",
        "I - love - you\n",
        ">>> \"Belajar Java di Pythonindo\".replace('Java', 'Python')\n",
        "'Belajar Python di Pythonindo"
      ],
      "execution_count": 69,
      "outputs": [
        {
          "output_type": "error",
          "ename": "SyntaxError",
          "evalue": "ignored",
          "traceback": [
            "\u001b[0;36m  File \u001b[0;32m\"<ipython-input-69-8501d8c021ea>\"\u001b[0;36m, line \u001b[0;32m14\u001b[0m\n\u001b[0;31m    'Belajar Python di Pythonindo\u001b[0m\n\u001b[0m                                 ^\u001b[0m\n\u001b[0;31mSyntaxError\u001b[0m\u001b[0;31m:\u001b[0m EOL while scanning string literal\n"
          ]
        }
      ]
    },
    {
      "cell_type": "markdown",
      "metadata": {
        "id": "Oy0OJYM5ZOWb"
      },
      "source": [
        "**List**"
      ]
    },
    {
      "cell_type": "markdown",
      "metadata": {
        "id": "pYLN7uoRZQdL"
      },
      "source": [
        "Membuat List"
      ]
    },
    {
      "cell_type": "markdown",
      "metadata": {
        "id": "6xcRH_e_ZUEn"
      },
      "source": [
        "Mengakses Anggota List"
      ]
    },
    {
      "cell_type": "code",
      "metadata": {
        "id": "CJcq-FMMZXCP",
        "outputId": "b62c9b51-663c-40a0-8d35-b99c43e89196",
        "colab": {
          "base_uri": "https://localhost:8080/",
          "height": 249
        }
      },
      "source": [
        "my_list = [\"I\", \"love\",\"python\",\"programming\",2017] \n",
        "# output: I \n",
        "my_list[0] \n",
        "#output: python \n",
        "my_list[2]\n",
        "# list dalam list \n",
        "your_list = [\"hello\", [1,2,3], \"python\"] \n",
        "# output 1 \n",
        "print(your_list[1][0]) \n",
        "# output 3 \n",
        "print(your_list[1][2]) \n",
        "# IndexError \n",
        "my_list[6]"
      ],
      "execution_count": 70,
      "outputs": [
        {
          "output_type": "stream",
          "text": [
            "1\n",
            "3\n"
          ],
          "name": "stdout"
        },
        {
          "output_type": "error",
          "ename": "IndexError",
          "evalue": "ignored",
          "traceback": [
            "\u001b[0;31m---------------------------------------------------------------------------\u001b[0m",
            "\u001b[0;31mIndexError\u001b[0m                                Traceback (most recent call last)",
            "\u001b[0;32m<ipython-input-70-732ff5d7e461>\u001b[0m in \u001b[0;36m<module>\u001b[0;34m()\u001b[0m\n\u001b[1;32m     11\u001b[0m \u001b[0mprint\u001b[0m\u001b[0;34m(\u001b[0m\u001b[0myour_list\u001b[0m\u001b[0;34m[\u001b[0m\u001b[0;36m1\u001b[0m\u001b[0;34m]\u001b[0m\u001b[0;34m[\u001b[0m\u001b[0;36m2\u001b[0m\u001b[0;34m]\u001b[0m\u001b[0;34m)\u001b[0m\u001b[0;34m\u001b[0m\u001b[0;34m\u001b[0m\u001b[0m\n\u001b[1;32m     12\u001b[0m \u001b[0;31m# IndexError\u001b[0m\u001b[0;34m\u001b[0m\u001b[0;34m\u001b[0m\u001b[0;34m\u001b[0m\u001b[0m\n\u001b[0;32m---> 13\u001b[0;31m \u001b[0mmy_list\u001b[0m\u001b[0;34m[\u001b[0m\u001b[0;36m6\u001b[0m\u001b[0;34m]\u001b[0m\u001b[0;34m\u001b[0m\u001b[0;34m\u001b[0m\u001b[0m\n\u001b[0m",
            "\u001b[0;31mIndexError\u001b[0m: list index out of range"
          ]
        }
      ]
    },
    {
      "cell_type": "markdown",
      "metadata": {
        "id": "2oLRVXYMb033"
      },
      "source": [
        "List Dengan Indeks Negatif"
      ]
    },
    {
      "cell_type": "code",
      "metadata": {
        "id": "EO47Qwigb1WW",
        "outputId": "5e10c546-9292-4f3f-d38f-3d998d1cbb01",
        "colab": {
          "base_uri": "https://localhost:8080/",
          "height": 36
        }
      },
      "source": [
        "my_list = ['p','y','t','h','o','n'] \n",
        "# output: n \n",
        "my_list[-1] \n",
        "# output: h \n",
        "my_list[-3]\n"
      ],
      "execution_count": 71,
      "outputs": [
        {
          "output_type": "execute_result",
          "data": {
            "application/vnd.google.colaboratory.intrinsic+json": {
              "type": "string"
            },
            "text/plain": [
              "'h'"
            ]
          },
          "metadata": {
            "tags": []
          },
          "execution_count": 71
        }
      ]
    },
    {
      "cell_type": "markdown",
      "metadata": {
        "id": "7KH8KoCmb6z9"
      },
      "source": [
        "Memotong (Slicing) List"
      ]
    },
    {
      "cell_type": "code",
      "metadata": {
        "id": "6gWlR78Vb7bo",
        "outputId": "b0601fec-4fad-421e-b38d-d8b352cb6c63",
        "colab": {
          "base_uri": "https://localhost:8080/"
        }
      },
      "source": [
        "# anggota list dari 3 s/d 5 (dari h s/d n) \n",
        "print(my_list[3:6])\n",
        "# anggota list dari 4 s/d yang terakhir \n",
        "print(my_list[4:]) \n",
        "# anggota list dari 0 s/d 4 \n",
        "print(my_list[:5]) \n",
        "# indeks dari belakang dari -1 s/d -4 \n",
        "print(my_list[-1:-5])\n"
      ],
      "execution_count": 72,
      "outputs": [
        {
          "output_type": "stream",
          "text": [
            "['h', 'o', 'n']\n",
            "['o', 'n']\n",
            "['p', 'y', 't', 'h', 'o']\n",
            "[]\n"
          ],
          "name": "stdout"
        }
      ]
    },
    {
      "cell_type": "markdown",
      "metadata": {
        "id": "wXBHtYzLcKPk"
      },
      "source": [
        "Mengubah Anggota List"
      ]
    },
    {
      "cell_type": "code",
      "metadata": {
        "id": "8WnkK4i0cKq3",
        "outputId": "55e7eeee-57c6-4fcd-faa4-7fb2f376b333",
        "colab": {
          "base_uri": "https://localhost:8080/",
          "height": 137
        }
      },
      "source": [
        "# misal ada nilai yang salah \n",
        "ganjil = [1,3,4,7,9] \n",
        "# ubah item ke 3 (indeks ke 2) \n",
        "ganjil[2] = 5 print(ganjil) \n",
        "# mengubah sekali banyak \n",
        "ganjil[2:5] = [11,13,15] \n",
        "print(ganjil)"
      ],
      "execution_count": 73,
      "outputs": [
        {
          "output_type": "error",
          "ename": "SyntaxError",
          "evalue": "ignored",
          "traceback": [
            "\u001b[0;36m  File \u001b[0;32m\"<ipython-input-73-30102ded79c4>\"\u001b[0;36m, line \u001b[0;32m4\u001b[0m\n\u001b[0;31m    ganjil[2] = 5 print(ganjil)\u001b[0m\n\u001b[0m                      ^\u001b[0m\n\u001b[0;31mSyntaxError\u001b[0m\u001b[0;31m:\u001b[0m invalid syntax\n"
          ]
        }
      ]
    },
    {
      "cell_type": "markdown",
      "metadata": {
        "id": "Hp274WeBcPEI"
      },
      "source": [
        "Metode List\n"
      ]
    },
    {
      "cell_type": "markdown",
      "metadata": {
        "id": "KwQjdBrucPnG"
      },
      "source": [
        "Menambahkan Anggota List"
      ]
    },
    {
      "cell_type": "code",
      "metadata": {
        "id": "mOQXPR8JcUKS",
        "outputId": "d2a6ccd7-9ae9-4a9c-ec0f-b0426a0e4f35",
        "colab": {
          "base_uri": "https://localhost:8080/",
          "height": 137
        }
      },
      "source": [
        ">>> ganjil = [1,3,5,7]\n",
        ">>> ganjil.append(9)\n",
        ">>> print(ganjil)\n",
        "[1,3,5,7,9]\n",
        ">>> ganjil.extend([11,13,15])\n",
        ">>> print(ganjil)\n",
        "[1,3,5,7,9,11,13,15]\n",
        ">>> genap = [2, 4, 6]\n",
        ">>> print(genap + [8, 10, 12])\n",
        "[2, 4, 6, 8, 10, 12]\n",
        ">>> print(['p','y'] * 2)\n",
        "['p','y','p','y]"
      ],
      "execution_count": 74,
      "outputs": [
        {
          "output_type": "error",
          "ename": "SyntaxError",
          "evalue": "ignored",
          "traceback": [
            "\u001b[0;36m  File \u001b[0;32m\"<ipython-input-74-c9fc8820446c>\"\u001b[0;36m, line \u001b[0;32m12\u001b[0m\n\u001b[0;31m    ['p','y','p','y]\u001b[0m\n\u001b[0m                    ^\u001b[0m\n\u001b[0;31mSyntaxError\u001b[0m\u001b[0;31m:\u001b[0m EOL while scanning string literal\n"
          ]
        }
      ]
    },
    {
      "cell_type": "markdown",
      "metadata": {
        "id": "NqBXwoIqcjYF"
      },
      "source": [
        "Menyisipkan Anggota List"
      ]
    },
    {
      "cell_type": "code",
      "metadata": {
        "id": "uXBMkc91cj9N",
        "outputId": "ca3ae9bb-f1ee-492d-8842-e234d5c3b793",
        "colab": {
          "base_uri": "https://localhost:8080/"
        }
      },
      "source": [
        ">>> ganjil = [5,7,11,13,15]\n",
        ">>> # kita akan menyisipkan 9 setelah angka 7\n",
        ">>> ganjil.insert(2,9)\n",
        ">>> print(ganjil)\n",
        "[5,7,9,11,13,15]\n"
      ],
      "execution_count": 75,
      "outputs": [
        {
          "output_type": "stream",
          "text": [
            "[5, 7, 9, 11, 13, 15]\n"
          ],
          "name": "stdout"
        },
        {
          "output_type": "execute_result",
          "data": {
            "text/plain": [
              "[5, 7, 9, 11, 13, 15]"
            ]
          },
          "metadata": {
            "tags": []
          },
          "execution_count": 75
        }
      ]
    },
    {
      "cell_type": "markdown",
      "metadata": {
        "id": "j6CI5iozcnmB"
      },
      "source": [
        "Menghapus Anggota List"
      ]
    },
    {
      "cell_type": "code",
      "metadata": {
        "id": "CRKQfwY7cn__",
        "outputId": "ebd377b3-b9e5-4ffc-f8e4-ce1b2e0009c1",
        "colab": {
          "base_uri": "https://localhost:8080/"
        }
      },
      "source": [
        "my_list = ['p', 'y', 't', 'h', 'o', 'n', 'i', 'n', 'd', 'o'] \n",
        "my_list.remove('p') \n",
        "# output ['y', 't', 'h', 'o', 'n', 'i', 'n', 'd', 'o']\n",
        "print(my_list) \n",
        "my_list.remove('n') \n",
        "# remove hanya menghapus elemen pertama yang dijumpai \n",
        "# output: ['p', 'y', 't', 'h', 'o', 'i', 'n', 'd', 'o']\n",
        "# Output 'y'\n",
        "print(my_list.pop(1))\n",
        "del my_list[2]\n",
        "print(my_list)\n",
        "my_list.clear()\n",
        "# Output []\n",
        "print(my_list)\n"
      ],
      "execution_count": 76,
      "outputs": [
        {
          "output_type": "stream",
          "text": [
            "['y', 't', 'h', 'o', 'n', 'i', 'n', 'd', 'o']\n",
            "t\n",
            "['y', 'h', 'i', 'n', 'd', 'o']\n",
            "[]\n"
          ],
          "name": "stdout"
        }
      ]
    },
    {
      "cell_type": "markdown",
      "metadata": {
        "id": "OcZaww1ictRA"
      },
      "source": [
        "Mengurutkan Anggota List"
      ]
    },
    {
      "cell_type": "code",
      "metadata": {
        "id": "A-aYTNsHctmM",
        "outputId": "ee9592fc-a752-4f0f-f80f-59801bad0a1c",
        "colab": {
          "base_uri": "https://localhost:8080/"
        }
      },
      "source": [
        ">>> alfabet = ['a','b','d','f','e','c','h','g','j','i']\n",
        ">>> alfabet.sort()\n",
        ">>> print(alfabet)\n",
        "['a', 'b', 'c', 'd', 'e', 'f', 'g', 'h', 'i', 'j']\n",
        ">>> alfabet.sort(reverse=True)\n",
        ">>> print(alfabet)\n",
        "['j', 'i', 'h', 'g', 'f', 'e', 'd', 'c', 'b', 'a']"
      ],
      "execution_count": 77,
      "outputs": [
        {
          "output_type": "stream",
          "text": [
            "['a', 'b', 'c', 'd', 'e', 'f', 'g', 'h', 'i', 'j']\n",
            "['j', 'i', 'h', 'g', 'f', 'e', 'd', 'c', 'b', 'a']\n"
          ],
          "name": "stdout"
        },
        {
          "output_type": "execute_result",
          "data": {
            "text/plain": [
              "['j', 'i', 'h', 'g', 'f', 'e', 'd', 'c', 'b', 'a']"
            ]
          },
          "metadata": {
            "tags": []
          },
          "execution_count": 77
        }
      ]
    },
    {
      "cell_type": "markdown",
      "metadata": {
        "id": "Q1mc_RlOcxNU"
      },
      "source": [
        "Membalik Urutan List"
      ]
    },
    {
      "cell_type": "code",
      "metadata": {
        "id": "SNPwsqbGcxke",
        "outputId": "7e05dc67-6798-4c53-b3f6-0e614cf9967e",
        "colab": {
          "base_uri": "https://localhost:8080/"
        }
      },
      "source": [
        ">>> alfabet = ['a','c','d','e','b']\n",
        ">>> alfabet.reverse()\n",
        ">>> print(alfabet)\n",
        "['b','e','d','c','b','a']"
      ],
      "execution_count": 78,
      "outputs": [
        {
          "output_type": "stream",
          "text": [
            "['b', 'e', 'd', 'c', 'a']\n"
          ],
          "name": "stdout"
        },
        {
          "output_type": "execute_result",
          "data": {
            "text/plain": [
              "['b', 'e', 'd', 'c', 'b', 'a']"
            ]
          },
          "metadata": {
            "tags": []
          },
          "execution_count": 78
        }
      ]
    },
    {
      "cell_type": "markdown",
      "metadata": {
        "id": "29kBU4Okc0c-"
      },
      "source": [
        "**Tuple**"
      ]
    },
    {
      "cell_type": "markdown",
      "metadata": {
        "id": "ZojCNI-Nc331"
      },
      "source": [
        "Membuat Tuple\n"
      ]
    },
    {
      "cell_type": "code",
      "metadata": {
        "id": "3RRX-RzZc4Tz",
        "outputId": "800f3459-29ae-49d9-dda1-88c65e72b771",
        "colab": {
          "base_uri": "https://localhost:8080/"
        }
      },
      "source": [
        "# membuat tuple kosong \n",
        "# Output: ( ) \n",
        "my_tuple = () \n",
        "print(my_tuple) \n",
        "# tuple dengan 1 elemen \n",
        "# Output: (1,) \n",
        "my_tuple = (1,) \n",
        "print (my_tuple) \n",
        "# tuple berisi integer \n",
        "# output = (1, 2, 3) \n",
        "my_tuple = (1, 2, 3) \n",
        "print(my_tuple) \n",
        "# tuple bersarang\n",
        "# Output: (\"hello\", [1, 2, 3], (4, 5, 6)) \n",
        "my_tuple = (\"hello\", [1, 2, 3], (4, 5, 6)) \n",
        "print(my_tuple) \n",
        "# Tuple bisa tidak menggunakan tanda () \n",
        "# Output (1, 2, 3)\n",
        "my_tuple = 1, 2, 3 \n",
        "# memasukkan anggota tuple ke variabel yang bersesuaian \n",
        "# a akan berisi 1, b berisi 2, dan c berisi 3 \n",
        "# output 1 2 3 \n",
        "a, b, c = my_tuple \n",
        "print(a, b, c)"
      ],
      "execution_count": 79,
      "outputs": [
        {
          "output_type": "stream",
          "text": [
            "()\n",
            "(1,)\n",
            "(1, 2, 3)\n",
            "('hello', [1, 2, 3], (4, 5, 6))\n",
            "1 2 3\n"
          ],
          "name": "stdout"
        }
      ]
    },
    {
      "cell_type": "markdown",
      "metadata": {
        "id": "Yqhx4QkFc-hJ"
      },
      "source": [
        "Mengakses Anggota Tuple"
      ]
    },
    {
      "cell_type": "code",
      "metadata": {
        "id": "x91ehhLzc_Bn",
        "outputId": "8b54108c-855c-4b4b-d326-d46e2811d60c",
        "colab": {
          "base_uri": "https://localhost:8080/",
          "height": 286
        }
      },
      "source": [
        "my_tuple = ('p','y','t','h','o','n') \n",
        "# Output: 'p' \n",
        "print(my_tuple[0]) \n",
        "# Output: 'y' \n",
        "print(my_tuple[1]) \n",
        "# Output: 'n' \n",
        "print(my_tuple[-1]) \n",
        "# Output: 'o' \n",
        "print(my_tuple[-2]) \n",
        "# IndexError \n",
        "print(my_tuple[6])\n"
      ],
      "execution_count": 80,
      "outputs": [
        {
          "output_type": "stream",
          "text": [
            "p\n",
            "y\n",
            "n\n",
            "o\n"
          ],
          "name": "stdout"
        },
        {
          "output_type": "error",
          "ename": "IndexError",
          "evalue": "ignored",
          "traceback": [
            "\u001b[0;31m---------------------------------------------------------------------------\u001b[0m",
            "\u001b[0;31mIndexError\u001b[0m                                Traceback (most recent call last)",
            "\u001b[0;32m<ipython-input-80-4514095566ef>\u001b[0m in \u001b[0;36m<module>\u001b[0;34m()\u001b[0m\n\u001b[1;32m      9\u001b[0m \u001b[0mprint\u001b[0m\u001b[0;34m(\u001b[0m\u001b[0mmy_tuple\u001b[0m\u001b[0;34m[\u001b[0m\u001b[0;34m-\u001b[0m\u001b[0;36m2\u001b[0m\u001b[0;34m]\u001b[0m\u001b[0;34m)\u001b[0m\u001b[0;34m\u001b[0m\u001b[0;34m\u001b[0m\u001b[0m\n\u001b[1;32m     10\u001b[0m \u001b[0;31m# IndexError\u001b[0m\u001b[0;34m\u001b[0m\u001b[0;34m\u001b[0m\u001b[0;34m\u001b[0m\u001b[0m\n\u001b[0;32m---> 11\u001b[0;31m \u001b[0mprint\u001b[0m\u001b[0;34m(\u001b[0m\u001b[0mmy_tuple\u001b[0m\u001b[0;34m[\u001b[0m\u001b[0;36m6\u001b[0m\u001b[0;34m]\u001b[0m\u001b[0;34m)\u001b[0m\u001b[0;34m\u001b[0m\u001b[0;34m\u001b[0m\u001b[0m\n\u001b[0m",
            "\u001b[0;31mIndexError\u001b[0m: tuple index out of range"
          ]
        }
      ]
    },
    {
      "cell_type": "code",
      "metadata": {
        "id": "WnikQBikdreP",
        "outputId": "88ec89b5-2db6-400e-f84f-51f8f3d4c7b0",
        "colab": {
          "base_uri": "https://localhost:8080/"
        }
      },
      "source": [
        "my_tuple = ('p','r','o','g','r','a','m','m','i','n','g') \n",
        "# akses dari indeks 0 s/d 2 \n",
        "# output: ('p','r','o') \n",
        "print(my_tuple[:3])\n",
        "# Akses dari indeks 2 s/d 5 \n",
        "# output: ('r','o','g','r') \n",
        "print(my_tuple[2:6]) \n",
        "# Akses dari indeks 3 sampai akhir \n",
        "# output: ('r','o','g','r','a','m','m','i','n','g') \n",
        "print(my_tuple[3:])\n"
      ],
      "execution_count": 81,
      "outputs": [
        {
          "output_type": "stream",
          "text": [
            "('p', 'r', 'o')\n",
            "('o', 'g', 'r', 'a')\n",
            "('g', 'r', 'a', 'm', 'm', 'i', 'n', 'g')\n"
          ],
          "name": "stdout"
        }
      ]
    },
    {
      "cell_type": "markdown",
      "metadata": {
        "id": "x2890S7JdvZO"
      },
      "source": [
        "Mengubah Anggota Tuple"
      ]
    },
    {
      "cell_type": "code",
      "metadata": {
        "id": "0AyY7Z8Xdvye",
        "outputId": "5b5061c5-e8ee-4b83-f058-94a778a0d6fd",
        "colab": {
          "base_uri": "https://localhost:8080/"
        }
      },
      "source": [
        "my_tuple = (2, 3, 4, [5, 6]) \n",
        "# kita tidak bisa mengubah anggota tuple \n",
        "# bila kita hilangkan tanda komentar # pada baris ke 6 \n",
        "# akan muncul error: # TypeError: 'tuple' object does not support item assignment \n",
        "# my_tuple[1] = 8 \n",
        "# tapi list di dalam tuple bisa diubah \n",
        "# output: (2, 3, 4, [7, 6]) \n",
        "my_tuple[3][0] = 7 \n",
        "print(my_tuple) \n",
        "# tuple bisa diganti secara keseluruhan dengan penugasan kembali \n",
        "# output: ('p','y','t','h','o','n') \n",
        "my_tuple = ('p','y','t','h','o','n') \n",
        "print(my_tuple) \n",
        "# anggota tuple juga tidak bisa dihapus menggunakan del\n",
        "# perintah berikut akan menghasilkan error TypeError\n",
        "# kalau Anda menghilangkan tanda komentar #\n",
        "#del my_tuple[0]\n",
        "# kita bisa menghapus tuple keseluruhan\n",
        "del my_tuple"
      ],
      "execution_count": 83,
      "outputs": [
        {
          "output_type": "stream",
          "text": [
            "(2, 3, 4, [7, 6])\n",
            "('p', 'y', 't', 'h', 'o', 'n')\n"
          ],
          "name": "stdout"
        }
      ]
    },
    {
      "cell_type": "markdown",
      "metadata": {
        "id": "az2QQDfbd1p5"
      },
      "source": [
        "Menguji Keanggotaan Tuple"
      ]
    },
    {
      "cell_type": "code",
      "metadata": {
        "id": "xIq0JlHNd2W6",
        "outputId": "09047fbc-4a7b-4870-e759-b245729263e4",
        "colab": {
          "base_uri": "https://localhost:8080/"
        }
      },
      "source": [
        "my_tuple = (1, 2, 3, 'a', 'b', 'c') \n",
        "# menggunakan in \n",
        "# output: True \n",
        "print('3' in my_tuple) \n",
        "# output: False \n",
        "print('e' in my_tuple) \n",
        "# menggunakan not in \n",
        "# output True \n",
        "print('k' not in my_tuple)"
      ],
      "execution_count": 84,
      "outputs": [
        {
          "output_type": "stream",
          "text": [
            "False\n",
            "False\n",
            "True\n"
          ],
          "name": "stdout"
        }
      ]
    },
    {
      "cell_type": "markdown",
      "metadata": {
        "id": "cR-dMvSxd5A3"
      },
      "source": [
        "Iterasi Pada Tuple\n"
      ]
    },
    {
      "cell_type": "code",
      "metadata": {
        "id": "srtkttL9d5dS",
        "outputId": "7f493c66-5c1c-4cb7-a5bc-ae453054822b",
        "colab": {
          "base_uri": "https://localhost:8080/"
        }
      },
      "source": [
        "# output: \n",
        "# Hi Galih \n",
        "# Hi Ratna \n",
        "nama = ('Galih', 'Ratna') \n",
        "for name in nama: \n",
        " print('Hi', name)\n"
      ],
      "execution_count": 85,
      "outputs": [
        {
          "output_type": "stream",
          "text": [
            "Hi Galih\n",
            "Hi Ratna\n"
          ],
          "name": "stdout"
        }
      ]
    },
    {
      "cell_type": "markdown",
      "metadata": {
        "id": "J2WhBMcAd8WH"
      },
      "source": [
        "Metode dan Fungsi Bawaan Tuple"
      ]
    },
    {
      "cell_type": "code",
      "metadata": {
        "id": "JUXdKgyud86v",
        "outputId": "8326348e-51a5-4476-bf46-92fbec57079b",
        "colab": {
          "base_uri": "https://localhost:8080/"
        }
      },
      "source": [
        "my_tuple = ('p','y','t','o','n','i','n','d','o') \n",
        "# count \n",
        "# output: 2 \n",
        "print(my_tuple.count('n')) \n",
        "# index \n",
        "# Output 4 \n",
        "print(my_tuple.index('n'))\n"
      ],
      "execution_count": 86,
      "outputs": [
        {
          "output_type": "stream",
          "text": [
            "2\n",
            "4\n"
          ],
          "name": "stdout"
        }
      ]
    },
    {
      "cell_type": "markdown",
      "metadata": {
        "id": "POZrE4uueBgB"
      },
      "source": [
        "**Set**"
      ]
    },
    {
      "cell_type": "markdown",
      "metadata": {
        "id": "7eSrPU49eEKh"
      },
      "source": [
        "Membuat Set"
      ]
    },
    {
      "cell_type": "code",
      "metadata": {
        "id": "povbEtRmeLbR",
        "outputId": "e9309a55-cf96-43b9-89e7-8aa412cd06c8",
        "colab": {
          "base_uri": "https://localhost:8080/",
          "height": 286
        }
      },
      "source": [
        "# set integer \n",
        "my_set = {1,2,3} \n",
        "print(my_set) \n",
        "# set dengan menggunakan fungsi set() \n",
        "my_set = set([1,2,3]) \n",
        "print(my_set) \n",
        "# set data campuran \n",
        "my_set = {1, 2.0, \"Python\", (3,4,5)} \n",
        "print(my_set) \n",
        "# bila kita mengisi duplikasi, set akan menghilangkan salah satu \n",
        "# output: {1,2,3} \n",
        "my_set = {1,2,2,3,3,3} \n",
        "print(my_set) \n",
        "# set tidak bisa berisi anggota list \n",
        "# contoh berikut akan muncul error TypeError \n",
        "my_set = {1,2,[3,4,5]}"
      ],
      "execution_count": 87,
      "outputs": [
        {
          "output_type": "stream",
          "text": [
            "{1, 2, 3}\n",
            "{1, 2, 3}\n",
            "{1, 2.0, (3, 4, 5), 'Python'}\n",
            "{1, 2, 3}\n"
          ],
          "name": "stdout"
        },
        {
          "output_type": "error",
          "ename": "TypeError",
          "evalue": "ignored",
          "traceback": [
            "\u001b[0;31m---------------------------------------------------------------------------\u001b[0m",
            "\u001b[0;31mTypeError\u001b[0m                                 Traceback (most recent call last)",
            "\u001b[0;32m<ipython-input-87-959f6d69e1ca>\u001b[0m in \u001b[0;36m<module>\u001b[0;34m()\u001b[0m\n\u001b[1;32m     14\u001b[0m \u001b[0;31m# set tidak bisa berisi anggota list\u001b[0m\u001b[0;34m\u001b[0m\u001b[0;34m\u001b[0m\u001b[0;34m\u001b[0m\u001b[0m\n\u001b[1;32m     15\u001b[0m \u001b[0;31m# contoh berikut akan muncul error TypeError\u001b[0m\u001b[0;34m\u001b[0m\u001b[0;34m\u001b[0m\u001b[0;34m\u001b[0m\u001b[0m\n\u001b[0;32m---> 16\u001b[0;31m \u001b[0mmy_set\u001b[0m \u001b[0;34m=\u001b[0m \u001b[0;34m{\u001b[0m\u001b[0;36m1\u001b[0m\u001b[0;34m,\u001b[0m\u001b[0;36m2\u001b[0m\u001b[0;34m,\u001b[0m\u001b[0;34m[\u001b[0m\u001b[0;36m3\u001b[0m\u001b[0;34m,\u001b[0m\u001b[0;36m4\u001b[0m\u001b[0;34m,\u001b[0m\u001b[0;36m5\u001b[0m\u001b[0;34m]\u001b[0m\u001b[0;34m}\u001b[0m\u001b[0;34m\u001b[0m\u001b[0;34m\u001b[0m\u001b[0m\n\u001b[0m",
            "\u001b[0;31mTypeError\u001b[0m: unhashable type: 'list'"
          ]
        }
      ]
    },
    {
      "cell_type": "markdown",
      "metadata": {
        "id": "OJKo_WnxerBc"
      },
      "source": [
        "Mengubah Anggota Set"
      ]
    },
    {
      "cell_type": "code",
      "metadata": {
        "id": "a_wK2rjlerdp",
        "outputId": "4654d437-3e2f-469c-c00c-42f18c1ce743",
        "colab": {
          "base_uri": "https://localhost:8080/"
        }
      },
      "source": [
        "# membuat set baru \n",
        "my_set = {1,2,3} \n",
        "print(my_set) \n",
        "# bila kita hilangkan tanda # dari baris 9 akan muncul error TypeError \n",
        "#my_set[0] \n",
        "# menambah satu anggota \n",
        "# output: {1,2,3,4} \n",
        "my_set.add(4) \n",
        "print(my_set) \n",
        "# menambah beberapa anggota \n",
        "# set akan menghilangkan duplikasi \n",
        "# output: {1,2,3,4,5,6} \n",
        "my_set.update([3,4,5,6]) \n",
        "print(my_set)\n"
      ],
      "execution_count": 88,
      "outputs": [
        {
          "output_type": "stream",
          "text": [
            "{1, 2, 3}\n",
            "{1, 2, 3, 4}\n",
            "{1, 2, 3, 4, 5, 6}\n"
          ],
          "name": "stdout"
        }
      ]
    },
    {
      "cell_type": "markdown",
      "metadata": {
        "id": "3xQAETKTewRs"
      },
      "source": [
        "Menghapus Anggota Set"
      ]
    },
    {
      "cell_type": "code",
      "metadata": {
        "id": "-_SGFqLKewsX",
        "outputId": "bf91b246-eaf6-4cbe-97ea-e8067c79a9aa",
        "colab": {
          "base_uri": "https://localhost:8080/"
        }
      },
      "source": [
        "# membuat set baru \n",
        "my_set = {1, 2, 3, 4, 5} \n",
        "print(my_set) \n",
        "# menghapus 4 dengan discard \n",
        "# output: {1, 2, 3, 5} \n",
        "my_set.discard(4) \n",
        "print(my_set) \n",
        "# menghapus 5 dengan remove \n",
        "# output : {1, 2, 3} \n",
        "my_set.remove(5) \n",
        "print(my_set) \n",
        "# anggota yang mau dihapus tidak ada dalam set \n",
        "# discard tidak akan memunculkan error\n",
        "# output: {1, 2, 3} \n",
        "my_set.discard(6)\n"
      ],
      "execution_count": 89,
      "outputs": [
        {
          "output_type": "stream",
          "text": [
            "{1, 2, 3, 4, 5}\n",
            "{1, 2, 3, 5}\n",
            "{1, 2, 3}\n"
          ],
          "name": "stdout"
        }
      ]
    },
    {
      "cell_type": "code",
      "metadata": {
        "id": "s9QIO79se05m",
        "outputId": "668502e3-b965-4c27-d22e-4e0406680d93",
        "colab": {
          "base_uri": "https://localhost:8080/"
        }
      },
      "source": [
        "# membuat set baru \n",
        "# output: set berisi anggota yang unik \n",
        "my_set = set(\"HelloPython\") \n",
        "print(my_set) \n",
        "# pop anggota \n",
        "# output: anggota acak \n",
        "print(my_set.pop())\n",
        "# pop anggota lainnya \n",
        "# output: anggota acak \n",
        "print(my_set.pop()) \n",
        "# mengosongkan set \n",
        "# output: set() \n",
        "my_set.clear() \n",
        "print(my_set)"
      ],
      "execution_count": 90,
      "outputs": [
        {
          "output_type": "stream",
          "text": [
            "{'t', 'n', 'h', 'e', 'y', 'l', 'o', 'H', 'P'}\n",
            "t\n",
            "n\n",
            "set()\n"
          ],
          "name": "stdout"
        }
      ]
    },
    {
      "cell_type": "markdown",
      "metadata": {
        "id": "aLH7xdt0e7sl"
      },
      "source": [
        "**Operasi Set di Python**"
      ]
    },
    {
      "cell_type": "markdown",
      "metadata": {
        "id": "g5mzC0wsfAwV"
      },
      "source": [
        "Operasi Gabungan (Union)"
      ]
    },
    {
      "cell_type": "code",
      "metadata": {
        "id": "rggmzqlIfBFD",
        "outputId": "fa3772dc-b8d1-4cb4-d290-37dc8fba8b53",
        "colab": {
          "base_uri": "https://localhost:8080/"
        }
      },
      "source": [
        "# Membuat set A and B \n",
        "A = {1, 2, 3, 4, 5} \n",
        "B = {4, 5, 6, 7, 8} \n",
        "# Gabungan menggunakan operator | \n",
        "# output: {1, 2, 3, 4, 5, 6, 7, 8} \n",
        "print(A | B) \n",
        "# Menggunakan fungsi union() \n",
        "# output: {1, 2, 3, 4, 5, 6, 7, 8} \n",
        "A.union(B) \n",
        "# output: {1, 2, 3, 4, 5, 6, 7, 8} \n",
        "B.union(A)\n"
      ],
      "execution_count": 91,
      "outputs": [
        {
          "output_type": "stream",
          "text": [
            "{1, 2, 3, 4, 5, 6, 7, 8}\n"
          ],
          "name": "stdout"
        },
        {
          "output_type": "execute_result",
          "data": {
            "text/plain": [
              "{1, 2, 3, 4, 5, 6, 7, 8}"
            ]
          },
          "metadata": {
            "tags": []
          },
          "execution_count": 91
        }
      ]
    },
    {
      "cell_type": "markdown",
      "metadata": {
        "id": "HN7i97pQfRoU"
      },
      "source": [
        "Operasi Irisan (Intersection)"
      ]
    },
    {
      "cell_type": "code",
      "metadata": {
        "id": "xo8b-9EdfSAG",
        "outputId": "79faf61d-2034-4794-f3c4-761c784eb58b",
        "colab": {
          "base_uri": "https://localhost:8080/"
        }
      },
      "source": [
        "# Membuat set A and B \n",
        "A = {1, 2, 3, 4, 5} \n",
        "B = {4, 5, 6, 7, 8} \n",
        "# Irisan menggunakan operator &\n",
        "# output: {4,5} \n",
        "print(A & B) \n",
        "# Menggunakan fungsi intersection() \n",
        "# output: {4,5} \n",
        "A.intersection(B) \n",
        "# output: {4,5} \n",
        "B.intersection(A) "
      ],
      "execution_count": 92,
      "outputs": [
        {
          "output_type": "stream",
          "text": [
            "{4, 5}\n"
          ],
          "name": "stdout"
        },
        {
          "output_type": "execute_result",
          "data": {
            "text/plain": [
              "{4, 5}"
            ]
          },
          "metadata": {
            "tags": []
          },
          "execution_count": 92
        }
      ]
    },
    {
      "cell_type": "markdown",
      "metadata": {
        "id": "EY0o2lZ7fXsN"
      },
      "source": [
        "Operasi Selisih (Difference)"
      ]
    },
    {
      "cell_type": "code",
      "metadata": {
        "id": "_SvvOGXUfYsa",
        "outputId": "060d1ee7-969a-4e29-f438-f2292f273e70",
        "colab": {
          "base_uri": "https://localhost:8080/"
        }
      },
      "source": [
        "# membuat A and B \n",
        "A = {1, 2, 3, 4, 5} \n",
        "B = {4, 5, 6, 7, 8} \n",
        "# Menggunakan operator - pada A \n",
        "# Output: {1, 2, 3} \n",
        "print(A - B) \n",
        "# Output: {1, 2, 3} \n",
        "A.difference(B) \n",
        "# Menggunakan operator - pada B \n",
        "# Output: {8, 6, 7} \n",
        "print(B - A) \n",
        "# Output: {8, 6, 7} \n",
        "B.difference(A)\n"
      ],
      "execution_count": 93,
      "outputs": [
        {
          "output_type": "stream",
          "text": [
            "{1, 2, 3}\n",
            "{8, 6, 7}\n"
          ],
          "name": "stdout"
        },
        {
          "output_type": "execute_result",
          "data": {
            "text/plain": [
              "{6, 7, 8}"
            ]
          },
          "metadata": {
            "tags": []
          },
          "execution_count": 93
        }
      ]
    },
    {
      "cell_type": "markdown",
      "metadata": {
        "id": "VQgj3FQofgc9"
      },
      "source": [
        "Operasi Komplemen (Symmetric Difference)\n"
      ]
    },
    {
      "cell_type": "code",
      "metadata": {
        "id": "crhYr-zSfg1C",
        "outputId": "e21e1d40-96bf-4976-bbd2-c6815079a657",
        "colab": {
          "base_uri": "https://localhost:8080/"
        }
      },
      "source": [
        "# membuat A and B \n",
        "A = {1, 2, 3, 4, 5} \n",
        "B = {4, 5, 6, 7, 8} \n",
        "# Menggunakan operator ^ pada A \n",
        "# Output: {1, 2, 3, 6, 7, 8} \n",
        "print(A ^ B) \n",
        "# Output: {1, 2, 3, 6, 7, 8} \n",
        "A.symmetric_difference(B) \n",
        "# Menggunakan operator ^ pada B \n",
        "# Output: {1, 2, 3, 6, 7, 8} \n",
        "print(B ^ A)\n",
        "# Output: {1, 2, 3, 6, 7, 8} \n",
        "B.symmetric_difference(A)\n"
      ],
      "execution_count": 94,
      "outputs": [
        {
          "output_type": "stream",
          "text": [
            "{1, 2, 3, 6, 7, 8}\n",
            "{1, 2, 3, 6, 7, 8}\n"
          ],
          "name": "stdout"
        },
        {
          "output_type": "execute_result",
          "data": {
            "text/plain": [
              "{1, 2, 3, 6, 7, 8}"
            ]
          },
          "metadata": {
            "tags": []
          },
          "execution_count": 94
        }
      ]
    },
    {
      "cell_type": "markdown",
      "metadata": {
        "id": "sIJJ1EGsfmGM"
      },
      "source": [
        "Metode (Fungsi) Set\n"
      ]
    },
    {
      "cell_type": "code",
      "metadata": {
        "id": "Gp_MFx02fmkE"
      },
      "source": [
        ""
      ],
      "execution_count": null,
      "outputs": []
    }
  ]
}