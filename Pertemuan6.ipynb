{
  "nbformat": 4,
  "nbformat_minor": 0,
  "metadata": {
    "colab": {
      "name": "Pertemuan6.ipynb",
      "provenance": [],
      "authorship_tag": "ABX9TyOOzaN1Bkaay/TpfVv4JqhA",
      "include_colab_link": true
    },
    "kernelspec": {
      "name": "python3",
      "display_name": "Python 3"
    },
    "language_info": {
      "name": "python"
    }
  },
  "cells": [
    {
      "cell_type": "markdown",
      "metadata": {
        "id": "view-in-github",
        "colab_type": "text"
      },
      "source": [
        "<a href=\"https://colab.research.google.com/github/BagusSatria123/TeknologiData/blob/master/Pertemuan6.ipynb\" target=\"_parent\"><img src=\"https://colab.research.google.com/assets/colab-badge.svg\" alt=\"Open In Colab\"/></a>"
      ]
    },
    {
      "cell_type": "code",
      "metadata": {
        "id": "ZT39dx1zf3t5"
      },
      "source": [
        ""
      ],
      "execution_count": null,
      "outputs": []
    },
    {
      "cell_type": "markdown",
      "metadata": {
        "id": "QpYgtgLlhYrU"
      },
      "source": [
        "**Dictionary**"
      ]
    },
    {
      "cell_type": "markdown",
      "metadata": {
        "id": "9UhX920VhcrJ"
      },
      "source": [
        "Mengakses Anggota Dictionary"
      ]
    },
    {
      "cell_type": "code",
      "metadata": {
        "id": "Fy1E3RgqhdE4",
        "outputId": "157a1056-7db4-4963-eb1f-78a789c97007",
        "colab": {
          "base_uri": "https://localhost:8080/",
          "height": 249
        }
      },
      "source": [
        "my_dict = {'nama':'Budi', 'usia':27} \n",
        "# output: Budi \n",
        "print(my_dict['nama']) \n",
        "# output 27 \n",
        "print(my_dict.get('usia')) \n",
        "# Mengakses kunci yang tidak tersedia menyebabkan KeyError \n",
        "my_dict['alamat']"
      ],
      "execution_count": 1,
      "outputs": [
        {
          "output_type": "stream",
          "text": [
            "Budi\n",
            "27\n"
          ],
          "name": "stdout"
        },
        {
          "output_type": "error",
          "ename": "KeyError",
          "evalue": "ignored",
          "traceback": [
            "\u001b[0;31m---------------------------------------------------------------------------\u001b[0m",
            "\u001b[0;31mKeyError\u001b[0m                                  Traceback (most recent call last)",
            "\u001b[0;32m<ipython-input-1-353e5bcf6300>\u001b[0m in \u001b[0;36m<module>\u001b[0;34m()\u001b[0m\n\u001b[1;32m      5\u001b[0m \u001b[0mprint\u001b[0m\u001b[0;34m(\u001b[0m\u001b[0mmy_dict\u001b[0m\u001b[0;34m.\u001b[0m\u001b[0mget\u001b[0m\u001b[0;34m(\u001b[0m\u001b[0;34m'usia'\u001b[0m\u001b[0;34m)\u001b[0m\u001b[0;34m)\u001b[0m\u001b[0;34m\u001b[0m\u001b[0;34m\u001b[0m\u001b[0m\n\u001b[1;32m      6\u001b[0m \u001b[0;31m# Mengakses kunci yang tidak tersedia menyebabkan KeyError\u001b[0m\u001b[0;34m\u001b[0m\u001b[0;34m\u001b[0m\u001b[0;34m\u001b[0m\u001b[0m\n\u001b[0;32m----> 7\u001b[0;31m \u001b[0mmy_dict\u001b[0m\u001b[0;34m[\u001b[0m\u001b[0;34m'alamat'\u001b[0m\u001b[0;34m]\u001b[0m\u001b[0;34m\u001b[0m\u001b[0;34m\u001b[0m\u001b[0m\n\u001b[0m",
            "\u001b[0;31mKeyError\u001b[0m: 'alamat'"
          ]
        }
      ]
    },
    {
      "cell_type": "markdown",
      "metadata": {
        "id": "nkiiHiQuiC1T"
      },
      "source": [
        "Mengubah Anggota Dictionary\n"
      ]
    },
    {
      "cell_type": "code",
      "metadata": {
        "id": "WVikala9iElz",
        "outputId": "7353f6f5-dedf-45db-a7d0-d88c0f8568c3",
        "colab": {
          "base_uri": "https://localhost:8080/"
        }
      },
      "source": [
        "my_dict = {'nama':'Gani', 'usia':35} \n",
        "# mengupdate nilai \n",
        "my_dict['usia'] = 36 \n",
        "# Output: {'nama': 'Gani', 'usia':36} \n",
        "print(my_dict) \n",
        "# menambah anggota \n",
        "my_dict['alamat'] = 'Medan'\n",
        "# output: {'alamat': 'Medan', 'nama':'Gani', 'usia':36} \n",
        "print(my_dict)\n"
      ],
      "execution_count": 2,
      "outputs": [
        {
          "output_type": "stream",
          "text": [
            "{'nama': 'Gani', 'usia': 36}\n",
            "{'nama': 'Gani', 'usia': 36, 'alamat': 'Medan'}\n"
          ],
          "name": "stdout"
        }
      ]
    },
    {
      "cell_type": "markdown",
      "metadata": {
        "id": "2RvWWWI5iISm"
      },
      "source": [
        "Menghapus Anggota Dictionary"
      ]
    },
    {
      "cell_type": "code",
      "metadata": {
        "id": "fvCobpu5iIwS",
        "outputId": "4cfc58cb-ef0f-4f65-f406-e82cd725a32f",
        "colab": {
          "base_uri": "https://localhost:8080/",
          "height": 305
        }
      },
      "source": [
        "# membuat dictionary baru \n",
        "pangkat = {1:1, 2:4, 3:9, 4:16, 5:25} \n",
        "# menghapus anggota tertentu \n",
        "# output: 9 \n",
        "print(pangkat.pop(3)) \n",
        "# menghapus anggota secara acak \n",
        "# output: (1,1) \n",
        "print(pangkat.popitem()) \n",
        "# yang tersisa adalah {2:4, 4:16, 5:25} \n",
        "print(pangkat) \n",
        "# delete 5 \n",
        "del pangkat[5] \n",
        "# output: {2:4, 4:16} \n",
        "print(pangkat) \n",
        "# menghapus semua anggota \n",
        "pangkat.clear() \n",
        "# menghapus dictionary pangkat \n",
        "del pangkat \n",
        "# Error karena pangkat sudah dihapus \n",
        "print(pangkat)"
      ],
      "execution_count": 3,
      "outputs": [
        {
          "output_type": "stream",
          "text": [
            "9\n",
            "(5, 25)\n",
            "{1: 1, 2: 4, 4: 16}\n"
          ],
          "name": "stdout"
        },
        {
          "output_type": "error",
          "ename": "KeyError",
          "evalue": "ignored",
          "traceback": [
            "\u001b[0;31m---------------------------------------------------------------------------\u001b[0m",
            "\u001b[0;31mKeyError\u001b[0m                                  Traceback (most recent call last)",
            "\u001b[0;32m<ipython-input-3-b0e64470cc3c>\u001b[0m in \u001b[0;36m<module>\u001b[0;34m()\u001b[0m\n\u001b[1;32m     10\u001b[0m \u001b[0mprint\u001b[0m\u001b[0;34m(\u001b[0m\u001b[0mpangkat\u001b[0m\u001b[0;34m)\u001b[0m\u001b[0;34m\u001b[0m\u001b[0;34m\u001b[0m\u001b[0m\n\u001b[1;32m     11\u001b[0m \u001b[0;31m# delete 5\u001b[0m\u001b[0;34m\u001b[0m\u001b[0;34m\u001b[0m\u001b[0;34m\u001b[0m\u001b[0m\n\u001b[0;32m---> 12\u001b[0;31m \u001b[0;32mdel\u001b[0m \u001b[0mpangkat\u001b[0m\u001b[0;34m[\u001b[0m\u001b[0;36m5\u001b[0m\u001b[0;34m]\u001b[0m\u001b[0;34m\u001b[0m\u001b[0;34m\u001b[0m\u001b[0m\n\u001b[0m\u001b[1;32m     13\u001b[0m \u001b[0;31m# output: {2:4, 4:16}\u001b[0m\u001b[0;34m\u001b[0m\u001b[0;34m\u001b[0m\u001b[0;34m\u001b[0m\u001b[0m\n\u001b[1;32m     14\u001b[0m \u001b[0mprint\u001b[0m\u001b[0;34m(\u001b[0m\u001b[0mpangkat\u001b[0m\u001b[0;34m)\u001b[0m\u001b[0;34m\u001b[0m\u001b[0;34m\u001b[0m\u001b[0m\n",
            "\u001b[0;31mKeyError\u001b[0m: 5"
          ]
        }
      ]
    },
    {
      "cell_type": "markdown",
      "metadata": {
        "id": "u8HuIaxPiQ3M"
      },
      "source": [
        "**Fungsi**"
      ]
    },
    {
      "cell_type": "code",
      "metadata": {
        "id": "G1mrVC03iU1H",
        "outputId": "832712ec-ffed-452d-8c84-e6906da6068c",
        "colab": {
          "base_uri": "https://localhost:8080/"
        }
      },
      "source": [
        "def sapa(nama): \n",
        " \"\"\"Fungsi ini untuk menyapa seseorang sesuai nama yang dimasukkan \n",
        "sebagai parameter\"\"\" \n",
        " print(\"Hi, \" + nama + \". Apa kabar?\") \n",
        " # pemanggilan fungsi \n",
        "# output: Hi, Umar. Apa kabar? \n",
        "sapa('Umar')\n"
      ],
      "execution_count": 4,
      "outputs": [
        {
          "output_type": "stream",
          "text": [
            "Hi, Umar. Apa kabar?\n"
          ],
          "name": "stdout"
        }
      ]
    },
    {
      "cell_type": "markdown",
      "metadata": {
        "id": "o1nCu4sqi60f"
      },
      "source": [
        "Memanggil Fungsi"
      ]
    },
    {
      "cell_type": "code",
      "metadata": {
        "id": "07oIF6aVi7Gb",
        "outputId": "01fc1d80-7424-4c11-e331-10da865b7051",
        "colab": {
          "base_uri": "https://localhost:8080/"
        }
      },
      "source": [
        "def sapa(nama): \n",
        " \"\"\"Fungsi ini untuk menyapa seseorang sesuai nama yang dimasukkan \n",
        "sebagai parameter\"\"\" \n",
        " print(\"Hi, \" + nama + \". Apa kabar?\") \n",
        " # pemanggilan fungsi \n",
        "# output: Hi, Umar. Apa kabar? \n",
        "sapa('Galih')"
      ],
      "execution_count": 5,
      "outputs": [
        {
          "output_type": "stream",
          "text": [
            "Hi, Galih. Apa kabar?\n"
          ],
          "name": "stdout"
        }
      ]
    },
    {
      "cell_type": "code",
      "metadata": {
        "id": "4RIDqnF6jYcn",
        "outputId": "bc28804c-48e8-4575-9f32-81920d9c9a9d",
        "colab": {
          "base_uri": "https://localhost:8080/"
        }
      },
      "source": [
        "def sapa(nama): \n",
        " \"\"\"Fungsi ini untuk menyapa seseorang sesuai nama yang dimasukkan \n",
        "sebagai parameter\"\"\" \n",
        " print(\"Hi, \" + nama + \". Apa kabar?\") \n",
        " # pemanggilan fungsi \n",
        "# output: Hi, Umar. Apa kabar? \n",
        "sapa('Ratna')"
      ],
      "execution_count": 6,
      "outputs": [
        {
          "output_type": "stream",
          "text": [
            "Hi, Ratna. Apa kabar?\n"
          ],
          "name": "stdout"
        }
      ]
    },
    {
      "cell_type": "markdown",
      "metadata": {
        "id": "xD5jhPuBjf-v"
      },
      "source": [
        "Docstring"
      ]
    },
    {
      "cell_type": "code",
      "metadata": {
        "id": "4U_fsPjfjgfG"
      },
      "source": [
        "def sapa(nama): \n",
        " \"\"\"Fungsi ini untuk menyapa seseorang sesuai nama yang dimasukkan \n",
        "sebagai parameter\"\"\" \n",
        " print(\"Hi, \" + nama + \". Apa kabar?\") \n",
        " # pemanggilan fungsi \n",
        "# output: Hi, Umar. Apa kabar? \n",
        "sapa('Ratna')"
      ],
      "execution_count": null,
      "outputs": []
    }
  ]
}