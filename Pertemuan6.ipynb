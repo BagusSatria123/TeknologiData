{
  "nbformat": 4,
  "nbformat_minor": 0,
  "metadata": {
    "colab": {
      "name": "Pertemuan6.ipynb",
      "provenance": [],
      "authorship_tag": "ABX9TyOqTIoNxZhwUzRPmKO79UUT",
      "include_colab_link": true
    },
    "kernelspec": {
      "name": "python3",
      "display_name": "Python 3"
    },
    "language_info": {
      "name": "python"
    }
  },
  "cells": [
    {
      "cell_type": "markdown",
      "metadata": {
        "id": "view-in-github",
        "colab_type": "text"
      },
      "source": [
        "<a href=\"https://colab.research.google.com/github/BagusSatria123/TeknologiData/blob/master/Pertemuan6.ipynb\" target=\"_parent\"><img src=\"https://colab.research.google.com/assets/colab-badge.svg\" alt=\"Open In Colab\"/></a>"
      ]
    },
    {
      "cell_type": "markdown",
      "metadata": {
        "id": "QpYgtgLlhYrU"
      },
      "source": [
        "**Dictionary**\n",
        "Dictionary adalah tipe data yang anggotanya terdiri dari pasangan kunci:nilai (key:value). Dictionary bersifat tidak berurut (unordered) sehingga anggotanya tidak memiliki indeks.\n",
        "\n",
        "**Membuat Dictionary**\n",
        "\n",
        "Dictionary dibuat dengan menempatkan anggotanya di dalam tanda kurung kurawal { }, dipisahkan oleh tanda koma.\n",
        "\n",
        "Anggota dictionary terdiri dari pasangan kunci:nilai. Kunci harus bersifat unik, tidak boleh ada dua kunci yang sama dalam dictionary.\n",
        "\n"
      ]
    },
    {
      "cell_type": "code",
      "metadata": {
        "id": "I580r3_wTIdG"
      },
      "source": [
        "# Membuat dictionary kosong\n",
        "my_dict = {}\n"
      ],
      "execution_count": 1,
      "outputs": []
    },
    {
      "cell_type": "code",
      "metadata": {
        "id": "lHjSu0b_To2i"
      },
      "source": [
        "# dictionary dengan kunci integer\n",
        "my_dict = {1: 'sepatu', 2: 'tas'}\n"
      ],
      "execution_count": null,
      "outputs": []
    },
    {
      "cell_type": "code",
      "metadata": {
        "id": "zPvlr-NwTpnA"
      },
      "source": [
        "# dictionary dengan kunci campuran\n",
        "my_dict = {'warna': 'merah', 1: [2,3,5]}\n"
      ],
      "execution_count": null,
      "outputs": []
    },
    {
      "cell_type": "code",
      "metadata": {
        "id": "rUwj3BUJTr_O"
      },
      "source": [
        "# membuat dictionary menggunakan fungsi dict\n",
        "my_dict = dict([(1:'sepatu'), (2:'bola')])\n"
      ],
      "execution_count": null,
      "outputs": []
    },
    {
      "cell_type": "markdown",
      "metadata": {
        "id": "9UhX920VhcrJ"
      },
      "source": [
        "Mengakses Anggota Dictionary"
      ]
    },
    {
      "cell_type": "code",
      "metadata": {
        "id": "Fy1E3RgqhdE4",
        "colab": {
          "base_uri": "https://localhost:8080/"
        },
        "outputId": "2de5e160-cfa3-4bb3-a73f-8a3b2b487eb9"
      },
      "source": [
        "my_dict = {'nama':'Budi', 'usia':27} \n",
        "# output: Budi \n",
        "print(my_dict['nama']) \n",
        "# output 27 \n",
        "print(my_dict.get('usia')) \n"
      ],
      "execution_count": 1,
      "outputs": [
        {
          "output_type": "stream",
          "text": [
            "Budi\n",
            "27\n"
          ],
          "name": "stdout"
        }
      ]
    },
    {
      "cell_type": "code",
      "metadata": {
        "colab": {
          "base_uri": "https://localhost:8080/",
          "height": 193
        },
        "id": "5dbhF2hvT5mh",
        "outputId": "4a96ce30-66f9-4360-88fd-6eff796190b3"
      },
      "source": [
        "# Mengakses kunci yang tidak tersedia menyebabkan KeyError\n",
        "my_dict['alamat']"
      ],
      "execution_count": 2,
      "outputs": [
        {
          "output_type": "error",
          "ename": "KeyError",
          "evalue": "ignored",
          "traceback": [
            "\u001b[0;31m---------------------------------------------------------------------------\u001b[0m",
            "\u001b[0;31mKeyError\u001b[0m                                  Traceback (most recent call last)",
            "\u001b[0;32m<ipython-input-2-75c63bd29e53>\u001b[0m in \u001b[0;36m<module>\u001b[0;34m()\u001b[0m\n\u001b[1;32m      1\u001b[0m \u001b[0;31m# Mengakses kunci yang tidak tersedia menyebabkan KeyError\u001b[0m\u001b[0;34m\u001b[0m\u001b[0;34m\u001b[0m\u001b[0;34m\u001b[0m\u001b[0m\n\u001b[0;32m----> 2\u001b[0;31m \u001b[0mmy_dict\u001b[0m\u001b[0;34m[\u001b[0m\u001b[0;34m'alamat'\u001b[0m\u001b[0;34m]\u001b[0m\u001b[0;34m\u001b[0m\u001b[0;34m\u001b[0m\u001b[0m\n\u001b[0m",
            "\u001b[0;31mKeyError\u001b[0m: 'alamat'"
          ]
        }
      ]
    },
    {
      "cell_type": "markdown",
      "metadata": {
        "id": "nkiiHiQuiC1T"
      },
      "source": [
        "Mengubah Anggota Dictionary\n"
      ]
    },
    {
      "cell_type": "code",
      "metadata": {
        "id": "WVikala9iElz",
        "colab": {
          "base_uri": "https://localhost:8080/"
        },
        "outputId": "7353f6f5-dedf-45db-a7d0-d88c0f8568c3"
      },
      "source": [
        "my_dict = {'nama':'Gani', 'usia':35} \n",
        "# mengupdate nilai \n",
        "my_dict['usia'] = 36 \n",
        "# Output: {'nama': 'Gani', 'usia':36} \n",
        "print(my_dict) \n",
        "# menambah anggota \n",
        "my_dict['alamat'] = 'Medan'\n",
        "# output: {'alamat': 'Medan', 'nama':'Gani', 'usia':36} \n",
        "print(my_dict)\n"
      ],
      "execution_count": null,
      "outputs": [
        {
          "output_type": "stream",
          "text": [
            "{'nama': 'Gani', 'usia': 36}\n",
            "{'nama': 'Gani', 'usia': 36, 'alamat': 'Medan'}\n"
          ],
          "name": "stdout"
        }
      ]
    },
    {
      "cell_type": "markdown",
      "metadata": {
        "id": "2RvWWWI5iISm"
      },
      "source": [
        "Menghapus Anggota Dictionary"
      ]
    },
    {
      "cell_type": "code",
      "metadata": {
        "id": "e8GxPD8IT-7D"
      },
      "source": [
        "# membuat dictionary baru\n",
        "pangkat = {1:1, 2:4, 3:9, 4:16, 5:25}"
      ],
      "execution_count": 3,
      "outputs": []
    },
    {
      "cell_type": "code",
      "metadata": {
        "colab": {
          "base_uri": "https://localhost:8080/"
        },
        "id": "yjY1NydXUAdM",
        "outputId": "cbaaaba3-d89c-411c-cbc2-fac345b4f73f"
      },
      "source": [
        "# menghapus anggota tertentu\n",
        "# output: 9\n",
        "print(pangkat.pop(3))"
      ],
      "execution_count": 4,
      "outputs": [
        {
          "output_type": "stream",
          "text": [
            "9\n"
          ],
          "name": "stdout"
        }
      ]
    },
    {
      "cell_type": "code",
      "metadata": {
        "colab": {
          "base_uri": "https://localhost:8080/"
        },
        "id": "5DbfETrmUCXG",
        "outputId": "64017e1f-ae8e-4c77-9279-83b676a4b779"
      },
      "source": [
        "# menghapus anggota secara acak\n",
        "# output: (1,1)\n",
        "print(pangkat.popitem())"
      ],
      "execution_count": 5,
      "outputs": [
        {
          "output_type": "stream",
          "text": [
            "(5, 25)\n"
          ],
          "name": "stdout"
        }
      ]
    },
    {
      "cell_type": "code",
      "metadata": {
        "colab": {
          "base_uri": "https://localhost:8080/"
        },
        "id": "SYDFqDbsUFD4",
        "outputId": "27a7dddd-8c05-4745-bf72-08704bb0fd8a"
      },
      "source": [
        "# yang tersisa adalah {2:4, 4:16, 5:25}\n",
        "print(pangkat)"
      ],
      "execution_count": 6,
      "outputs": [
        {
          "output_type": "stream",
          "text": [
            "{1: 1, 2: 4, 4: 16}\n"
          ],
          "name": "stdout"
        }
      ]
    },
    {
      "cell_type": "code",
      "metadata": {
        "id": "i8caqLb0UKuU"
      },
      "source": [
        "# delete 5\n",
        "del pangkat[5] "
      ],
      "execution_count": null,
      "outputs": []
    },
    {
      "cell_type": "code",
      "metadata": {
        "colab": {
          "base_uri": "https://localhost:8080/"
        },
        "id": "GcFUGiJLUILt",
        "outputId": "a201dd49-a2f6-4728-de79-a4d2ab042dcc"
      },
      "source": [
        "# output: {2:4, 4:16}\n",
        "print(pangkat)"
      ],
      "execution_count": 8,
      "outputs": [
        {
          "output_type": "stream",
          "text": [
            "{1: 1, 2: 4, 4: 16}\n"
          ],
          "name": "stdout"
        }
      ]
    },
    {
      "cell_type": "code",
      "metadata": {
        "id": "UXA-73DwUMwa"
      },
      "source": [
        "# menghapus semua anggota\n",
        "pangkat.clear()"
      ],
      "execution_count": 9,
      "outputs": []
    },
    {
      "cell_type": "code",
      "metadata": {
        "id": "C8wpksDWUNzt"
      },
      "source": [
        "# menghapus dictionary pangkat\n",
        "del pangkat"
      ],
      "execution_count": 10,
      "outputs": []
    },
    {
      "cell_type": "code",
      "metadata": {
        "colab": {
          "base_uri": "https://localhost:8080/",
          "height": 193
        },
        "id": "GGjCPjOiUOfM",
        "outputId": "5928bfc6-d778-4934-998b-cea4d8707ad1"
      },
      "source": [
        "# Error karena pangkat sudah dihapus\n",
        "print(pangkat)"
      ],
      "execution_count": 11,
      "outputs": [
        {
          "output_type": "error",
          "ename": "NameError",
          "evalue": "ignored",
          "traceback": [
            "\u001b[0;31m---------------------------------------------------------------------------\u001b[0m",
            "\u001b[0;31mNameError\u001b[0m                                 Traceback (most recent call last)",
            "\u001b[0;32m<ipython-input-11-7f4c7817a0f0>\u001b[0m in \u001b[0;36m<module>\u001b[0;34m()\u001b[0m\n\u001b[1;32m      1\u001b[0m \u001b[0;31m# Error karena pangkat sudah dihapus\u001b[0m\u001b[0;34m\u001b[0m\u001b[0;34m\u001b[0m\u001b[0;34m\u001b[0m\u001b[0m\n\u001b[0;32m----> 2\u001b[0;31m \u001b[0mprint\u001b[0m\u001b[0;34m(\u001b[0m\u001b[0mpangkat\u001b[0m\u001b[0;34m)\u001b[0m\u001b[0;34m\u001b[0m\u001b[0;34m\u001b[0m\u001b[0m\n\u001b[0m",
            "\u001b[0;31mNameError\u001b[0m: name 'pangkat' is not defined"
          ]
        }
      ]
    },
    {
      "cell_type": "markdown",
      "metadata": {
        "id": "u8HuIaxPiQ3M"
      },
      "source": [
        "**Fungsi**"
      ]
    },
    {
      "cell_type": "code",
      "metadata": {
        "id": "G1mrVC03iU1H",
        "colab": {
          "base_uri": "https://localhost:8080/"
        },
        "outputId": "832712ec-ffed-452d-8c84-e6906da6068c"
      },
      "source": [
        "def sapa(nama): \n",
        " \"\"\"Fungsi ini untuk menyapa seseorang sesuai nama yang dimasukkan \n",
        "sebagai parameter\"\"\" \n",
        " print(\"Hi, \" + nama + \". Apa kabar?\") \n",
        " # pemanggilan fungsi \n",
        "# output: Hi, Umar. Apa kabar? \n",
        "sapa('Umar')\n"
      ],
      "execution_count": null,
      "outputs": [
        {
          "output_type": "stream",
          "text": [
            "Hi, Umar. Apa kabar?\n"
          ],
          "name": "stdout"
        }
      ]
    },
    {
      "cell_type": "markdown",
      "metadata": {
        "id": "o1nCu4sqi60f"
      },
      "source": [
        "Memanggil Fungsi"
      ]
    },
    {
      "cell_type": "code",
      "metadata": {
        "id": "07oIF6aVi7Gb",
        "colab": {
          "base_uri": "https://localhost:8080/"
        },
        "outputId": "01fc1d80-7424-4c11-e331-10da865b7051"
      },
      "source": [
        "def sapa(nama): \n",
        " \"\"\"Fungsi ini untuk menyapa seseorang sesuai nama yang dimasukkan \n",
        "sebagai parameter\"\"\" \n",
        " print(\"Hi, \" + nama + \". Apa kabar?\") \n",
        " # pemanggilan fungsi \n",
        "# output: Hi, Umar. Apa kabar? \n",
        "sapa('Galih')"
      ],
      "execution_count": null,
      "outputs": [
        {
          "output_type": "stream",
          "text": [
            "Hi, Galih. Apa kabar?\n"
          ],
          "name": "stdout"
        }
      ]
    },
    {
      "cell_type": "code",
      "metadata": {
        "id": "4RIDqnF6jYcn",
        "colab": {
          "base_uri": "https://localhost:8080/"
        },
        "outputId": "a94e4c80-e290-4eae-e129-946b1189757b"
      },
      "source": [
        "def sapa(nama): \n",
        " \"\"\"Fungsi ini untuk menyapa seseorang sesuai nama yang dimasukkan \n",
        "sebagai parameter\"\"\" \n",
        " print(\"Hi, \" + nama + \". Apa kabar?\") \n",
        " # pemanggilan fungsi \n",
        "# output: Hi, Umar. Apa kabar? \n",
        "sapa('Ratna')"
      ],
      "execution_count": 17,
      "outputs": [
        {
          "output_type": "stream",
          "text": [
            "Hi, Ratna. Apa kabar?\n"
          ],
          "name": "stdout"
        }
      ]
    },
    {
      "cell_type": "markdown",
      "metadata": {
        "id": "xD5jhPuBjf-v"
      },
      "source": [
        "Docstring"
      ]
    },
    {
      "cell_type": "code",
      "metadata": {
        "id": "4U_fsPjfjgfG",
        "colab": {
          "base_uri": "https://localhost:8080/"
        },
        "outputId": "4bf99f6d-41f3-4b79-d66c-910b533e84e9"
      },
      "source": [
        "def sapa(nama): \n",
        " \"\"\"Fungsi ini untuk menyapa seseorang sesuai nama yang dimasukkan \n",
        "sebagai parameter\"\"\" \n",
        "print(sapa.__doc__)\n",
        " # pemanggilan fungsi \n",
        "# output: Hi, Umar. Apa kabar? \n",
        "sapa('Ratna')"
      ],
      "execution_count": 8,
      "outputs": [
        {
          "output_type": "stream",
          "text": [
            "Fungsi ini untuk menyapa seseorang sesuai nama yang dimasukkan \n",
            "sebagai parameter\n"
          ],
          "name": "stdout"
        }
      ]
    },
    {
      "cell_type": "code",
      "metadata": {
        "colab": {
          "base_uri": "https://localhost:8080/"
        },
        "id": "T6lZ6gUm7BjQ",
        "outputId": "356ef5b5-f21f-41f8-a57a-ea590b2388ec"
      },
      "source": [
        "keluaran = sapa('Gani')\n",
        "print(keluaran)"
      ],
      "execution_count": 19,
      "outputs": [
        {
          "output_type": "stream",
          "text": [
            "Hi, Gani. Apa kabar?\n",
            "None\n"
          ],
          "name": "stdout"
        }
      ]
    },
    {
      "cell_type": "markdown",
      "metadata": {
        "id": "Sodgzluv7Kf5"
      },
      "source": [
        "Argumen Wajib"
      ]
    },
    {
      "cell_type": "code",
      "metadata": {
        "colab": {
          "base_uri": "https://localhost:8080/"
        },
        "id": "OI0gASJ_7L-z",
        "outputId": "f158da10-7f0b-4e65-eed9-1421c5069792"
      },
      "source": [
        "sapa('Umar')\n"
      ],
      "execution_count": 18,
      "outputs": [
        {
          "output_type": "stream",
          "text": [
            "Hi, Umar. Apa kabar?\n"
          ],
          "name": "stdout"
        }
      ]
    },
    {
      "cell_type": "code",
      "metadata": {
        "colab": {
          "base_uri": "https://localhost:8080/",
          "height": 193
        },
        "id": "bdvR0zxPUvec",
        "outputId": "ff571ea9-5b3f-4d72-b57c-b27f5c6ec0e5"
      },
      "source": [
        "# akan muncul \n",
        "sapa()\n"
      ],
      "execution_count": 20,
      "outputs": [
        {
          "output_type": "error",
          "ename": "TypeError",
          "evalue": "ignored",
          "traceback": [
            "\u001b[0;31m---------------------------------------------------------------------------\u001b[0m",
            "\u001b[0;31mTypeError\u001b[0m                                 Traceback (most recent call last)",
            "\u001b[0;32m<ipython-input-20-89a90f5c2883>\u001b[0m in \u001b[0;36m<module>\u001b[0;34m()\u001b[0m\n\u001b[1;32m      1\u001b[0m \u001b[0;31m# akan muncul\u001b[0m\u001b[0;34m\u001b[0m\u001b[0;34m\u001b[0m\u001b[0;34m\u001b[0m\u001b[0m\n\u001b[0;32m----> 2\u001b[0;31m \u001b[0msapa\u001b[0m\u001b[0;34m(\u001b[0m\u001b[0;34m)\u001b[0m\u001b[0;34m\u001b[0m\u001b[0;34m\u001b[0m\u001b[0m\n\u001b[0m",
            "\u001b[0;31mTypeError\u001b[0m: sapa() missing 1 required positional argument: 'nama'"
          ]
        }
      ]
    },
    {
      "cell_type": "markdown",
      "metadata": {
        "id": "P-Ppqz2C7uNo"
      },
      "source": [
        "Argumen Kata Kunci"
      ]
    },
    {
      "cell_type": "code",
      "metadata": {
        "colab": {
          "base_uri": "https://localhost:8080/"
        },
        "id": "u36wF5jr7v0Y",
        "outputId": "592dcf5c-4320-4cc7-995d-d79e9f659a5c"
      },
      "source": [
        "# definisi fungsi print_string \n",
        "def print_string( str ): \n",
        " \"\"\"Menampilkan argumen string str ke layar\"\"\" \n",
        " print (str) \n",
        "# Kita memanggil fungsi dengan kata kunci \n",
        "print_string( str = \"Hello Python\")\n"
      ],
      "execution_count": 13,
      "outputs": [
        {
          "output_type": "stream",
          "text": [
            "Hello Python\n"
          ],
          "name": "stdout"
        }
      ]
    },
    {
      "cell_type": "code",
      "metadata": {
        "colab": {
          "base_uri": "https://localhost:8080/"
        },
        "id": "ucqu3wTb7zEv",
        "outputId": "10707889-8279-45ec-f2e9-6fc85327ba94"
      },
      "source": [
        "# Definisi fungsi \n",
        "def print_info( nama, usia ): \n",
        " \"\"\"Fungsi ini menampilkan info yang dimasukkan\"\"\"\n",
        " print (\"Nama: \", nama) \n",
        " print (\"Usia: \", usia) \n",
        "# Memanggil fungsi \n",
        "# output \n",
        "# Name: Budi \n",
        "# Usia: 25 \n",
        "print_info( usia = 25, nama = \"Budi\" )\n"
      ],
      "execution_count": 14,
      "outputs": [
        {
          "output_type": "stream",
          "text": [
            "Nama:  Budi\n",
            "Usia:  25\n"
          ],
          "name": "stdout"
        }
      ]
    },
    {
      "cell_type": "markdown",
      "metadata": {
        "id": "V0d67FCL70sk"
      },
      "source": [
        "Argumen Default"
      ]
    },
    {
      "cell_type": "code",
      "metadata": {
        "colab": {
          "base_uri": "https://localhost:8080/"
        },
        "id": "GJ67y3927141",
        "outputId": "c140630d-13ed-45d3-bf5b-02a6ef719eb7"
      },
      "source": [
        "# Definisi fungsi \n",
        "def print_info( nama, usia= 17 ): \n",
        " \"\"\"Fungsi ini menampilkan info yang dimasukkan\"\"\" \n",
        " print (\"Nama: \", nama) \n",
        " print (\"Usia \", usia) \n",
        "# Memanggil fungsi print_info \n",
        "print_info( usia = 29, nama = \"Galih\" ) \n",
        "# Pemanggilan fungsi tidak menyediakan argumen usia \n",
        "print_info( nama = \"Galih\" )"
      ],
      "execution_count": 15,
      "outputs": [
        {
          "output_type": "stream",
          "text": [
            "Nama:  Galih\n",
            "Usia  29\n",
            "Nama:  Galih\n",
            "Usia  17\n"
          ],
          "name": "stdout"
        }
      ]
    },
    {
      "cell_type": "markdown",
      "metadata": {
        "id": "C4V1yygq75Ek"
      },
      "source": [
        "Argumen Dengan Panjang Sembarang\n"
      ]
    },
    {
      "cell_type": "code",
      "metadata": {
        "colab": {
          "base_uri": "https://localhost:8080/"
        },
        "id": "PA83bD_776k_",
        "outputId": "85bd7e19-0aff-4035-9cb6-2eac36d0a288"
      },
      "source": [
        "# Definisi fungsi\n",
        "def print_info( arg1, *vartuple ):\n",
        " \"\"\"Fungsi untuk menampilkan nilai argumen sembarang yang\n",
        "dilewatkan\"\"\"\n",
        " print (\"Outputnya adalah: \")\n",
        " print (arg1)\n",
        " for var in vartuple:\n",
        "    print (var)\n",
        "# Pemanggilan fungsi\n",
        "# Satu argumen\n",
        "print_info( 10 )\n",
        "\n"
      ],
      "execution_count": 21,
      "outputs": [
        {
          "output_type": "stream",
          "text": [
            "Outputnya adalah: \n",
            "10\n"
          ],
          "name": "stdout"
        }
      ]
    },
    {
      "cell_type": "code",
      "metadata": {
        "colab": {
          "base_uri": "https://localhost:8080/"
        },
        "id": "2Y62shQMU0rD",
        "outputId": "76b6b4a1-9cda-4160-d996-ccbac15a6da7"
      },
      "source": [
        "# Empat argumen\n",
        "print_info( 10, 30, 50, 70 )"
      ],
      "execution_count": 22,
      "outputs": [
        {
          "output_type": "stream",
          "text": [
            "Outputnya adalah: \n",
            "10\n",
            "30\n",
            "50\n",
            "70\n"
          ],
          "name": "stdout"
        }
      ]
    },
    {
      "cell_type": "markdown",
      "metadata": {
        "id": "NVcgyBUw8Fy_"
      },
      "source": [
        "Ruang Lingkup (Scope) Variabel"
      ]
    },
    {
      "cell_type": "code",
      "metadata": {
        "colab": {
          "base_uri": "https://localhost:8080/"
        },
        "id": "GCbwuS7-8HDC",
        "outputId": "c3652852-0530-4ec6-d0cd-dba33d14fbfc"
      },
      "source": [
        "total = 0\n",
        "def sum( arg1, arg2 ): \n",
        " \"\"\"Menambahkan variabel dan mengembalikan hasilnya.\"\"\"\n",
        " total = arg1 + arg2; \n",
        " # total di sini adalah variabel lokal \n",
        " print(\"Di dalam fungsi nilai total : \", total) \n",
        " return total \n",
        "# Pemanggilan fungsi sum \n",
        "sum( 10, 20 ) \n",
        "print(\"Di luar fungsi, nilai total : \", total)\n"
      ],
      "execution_count": 22,
      "outputs": [
        {
          "output_type": "stream",
          "text": [
            "Di dalam fungsi nilai total :  30\n",
            "Di luar fungsi, nilai total :  0\n"
          ],
          "name": "stdout"
        }
      ]
    },
    {
      "cell_type": "markdown",
      "metadata": {
        "id": "DLjhCog38Y5V"
      },
      "source": [
        "**Modul**"
      ]
    },
    {
      "cell_type": "code",
      "metadata": {
        "id": "qqWttKWC8acX"
      },
      "source": [
        "# Contoh modul python\n",
        "def jumlah(a, b):\n",
        " \"\"\"Fungsi ini menambahkan dua bilangan\n",
        " dan mengembalikan hasilnya\"\"\"\n",
        " result = a + b\n",
        " return result\n"
      ],
      "execution_count": 23,
      "outputs": []
    },
    {
      "cell_type": "markdown",
      "metadata": {
        "id": "90Eo9bBw8evY"
      },
      "source": [
        "Mengimpor Modul"
      ]
    },
    {
      "cell_type": "code",
      "metadata": {
        "id": "ch373Y-lU8At"
      },
      "source": [
        "import example\n",
        "example.jumlah(5,6)\n"
      ],
      "execution_count": null,
      "outputs": []
    },
    {
      "cell_type": "markdown",
      "metadata": {
        "id": "tlYLdgOV9M4W"
      },
      "source": [
        "Impor Module Dengan import"
      ]
    },
    {
      "cell_type": "code",
      "metadata": {
        "colab": {
          "base_uri": "https://localhost:8080/"
        },
        "id": "CxTZdEzK9OAN",
        "outputId": "84383eb5-1869-4320-f29c-d1b2a9c832ea"
      },
      "source": [
        "import math \n",
        "print(\"Nilai pi adalah:\", math.pi)"
      ],
      "execution_count": 31,
      "outputs": [
        {
          "output_type": "stream",
          "text": [
            "Nilai pi adalah: 3.141592653589793\n"
          ],
          "name": "stdout"
        }
      ]
    },
    {
      "cell_type": "markdown",
      "metadata": {
        "id": "LjQzRq5FVEIY"
      },
      "source": [
        "**Import dengan Module Rename**"
      ]
    },
    {
      "cell_type": "code",
      "metadata": {
        "colab": {
          "base_uri": "https://localhost:8080/"
        },
        "id": "uX5M2aGS9Px7",
        "outputId": "cc308c72-0ffe-446e-bbbf-5a703e51364e"
      },
      "source": [
        " import math as m\n",
        " print(\"Nilai pi adalah:\",math.pi)"
      ],
      "execution_count": 32,
      "outputs": [
        {
          "output_type": "stream",
          "text": [
            "Nilai pi adalah: 3.141592653589793\n"
          ],
          "name": "stdout"
        }
      ]
    },
    {
      "cell_type": "markdown",
      "metadata": {
        "id": "TbaG9Gk49T9g"
      },
      "source": [
        "Import Sebagian Menggunakan from ... import ..."
      ]
    },
    {
      "cell_type": "code",
      "metadata": {
        "colab": {
          "base_uri": "https://localhost:8080/"
        },
        "id": "KbQ3-Kg19VNt",
        "outputId": "5d101466-f33c-4807-b339-530a8d2d9aad"
      },
      "source": [
        " from math import pi\n",
        " print(\"Nilai pi adalah\", pi)\n"
      ],
      "execution_count": 34,
      "outputs": [
        {
          "output_type": "stream",
          "text": [
            "Nilai pi adalah 3.141592653589793\n"
          ],
          "name": "stdout"
        }
      ]
    },
    {
      "cell_type": "code",
      "metadata": {
        "colab": {
          "base_uri": "https://localhost:8080/"
        },
        "id": "r5FDsJJZ9bDb",
        "outputId": "05a28d4f-2806-4029-dcaa-15e32b5a24e9"
      },
      "source": [
        " from math import pi, e\n",
        " pi\n",
        "3.141592653589793\n",
        " e\n",
        "2.718281828459045"
      ],
      "execution_count": 35,
      "outputs": [
        {
          "output_type": "execute_result",
          "data": {
            "text/plain": [
              "2.718281828459045"
            ]
          },
          "metadata": {
            "tags": []
          },
          "execution_count": 35
        }
      ]
    },
    {
      "cell_type": "markdown",
      "metadata": {
        "id": "INqkWVgs9eUH"
      },
      "source": [
        "Import Semua Isi Modul Dengan import *"
      ]
    },
    {
      "cell_type": "code",
      "metadata": {
        "colab": {
          "base_uri": "https://localhost:8080/"
        },
        "id": "tkOmOdGW9enF",
        "outputId": "a9be135f-9070-4cd7-b51b-fd3aa7a6eac3"
      },
      "source": [
        ">>> from math import *\n",
        ">>> print(\"Nilai e adalah:\", e)\n"
      ],
      "execution_count": 36,
      "outputs": [
        {
          "output_type": "stream",
          "text": [
            "Nilai e adalah: 2.718281828459045\n"
          ],
          "name": "stdout"
        }
      ]
    },
    {
      "cell_type": "markdown",
      "metadata": {
        "id": "A3xrTo8c9hPr"
      },
      "source": [
        "**Input dan Output**"
      ]
    },
    {
      "cell_type": "code",
      "metadata": {
        "colab": {
          "base_uri": "https://localhost:8080/"
        },
        "id": "HW0u2CH09ic6",
        "outputId": "36991a5a-640f-4c12-b934-497278b55a53"
      },
      "source": [
        "# output: Kalimat ini dicetak ke layar \n",
        "print(\"Kalimat ini dicetak ke layar\") \n",
        "a = 15 \n",
        "# output: Nilai a = 15 \n",
        "print(\"Nilai a =\", a)\n"
      ],
      "execution_count": 37,
      "outputs": [
        {
          "output_type": "stream",
          "text": [
            "Kalimat ini dicetak ke layar\n",
            "Nilai a = 15\n"
          ],
          "name": "stdout"
        }
      ]
    },
    {
      "cell_type": "code",
      "metadata": {
        "colab": {
          "base_uri": "https://localhost:8080/"
        },
        "id": "sY2mgqVw9lfr",
        "outputId": "26b5a090-22e8-4f73-ba82-8e67d0eb9ec0"
      },
      "source": [
        "print(1, 3, 5, 7) \n",
        "# output: 1 3 5 7 \n",
        "print(1,2,3,4, sep='*') \n",
        "# output: 1*2*3*4 \n",
        "print(1,2,3,4, sep='#', end='&') \n",
        "# output: 1#2#3#4&"
      ],
      "execution_count": 39,
      "outputs": [
        {
          "output_type": "stream",
          "text": [
            "1 3 5 7\n",
            "1*2*3*4\n",
            "1#2#3#4&"
          ],
          "name": "stdout"
        }
      ]
    },
    {
      "cell_type": "markdown",
      "metadata": {
        "id": "BceLlf839rAK"
      },
      "source": [
        "Operasi Input Menggunakan Fungsi input()"
      ]
    },
    {
      "cell_type": "code",
      "metadata": {
        "colab": {
          "base_uri": "https://localhost:8080/"
        },
        "id": "i_0PGEy09rT_",
        "outputId": "247cfa14-4026-4cd6-852d-cf9f1ca7ba30"
      },
      "source": [
        ">>> name = input('Masukkan nama: ')\n",
        ">>> print(name)\n",
        "\n"
      ],
      "execution_count": 46,
      "outputs": [
        {
          "output_type": "stream",
          "text": [
            "Masukkan nama: Budi\n",
            "Budi\n"
          ],
          "name": "stdout"
        }
      ]
    },
    {
      "cell_type": "code",
      "metadata": {
        "colab": {
          "base_uri": "https://localhost:8080/"
        },
        "id": "iOre5HSa97tF",
        "outputId": "237096d6-ac11-4125-e4da-a8f17ea867ef"
      },
      "source": [
        ">>> panjang = input('Masukkan nilai panjang: ')\n",
        ">>> lebar = input('Masukkan nilai lebar: ')\n",
        ">>> luas = int(panjang) * int(lebar)\n",
        ">>> print(\"Luas =\", luas)\n"
      ],
      "execution_count": 44,
      "outputs": [
        {
          "output_type": "stream",
          "text": [
            "Masukkan nilai panjang: 10\n",
            "Masukkan nilai lebar: 5\n",
            "Luas = 50\n"
          ],
          "name": "stdout"
        }
      ]
    },
    {
      "cell_type": "markdown",
      "metadata": {
        "id": "2Q3YfTHYoUG5"
      },
      "source": [
        "**operasi File**"
      ]
    },
    {
      "cell_type": "code",
      "metadata": {
        "id": "vdPkzsKNmMSq",
        "outputId": "acd30ee0-0209-43e2-c356-c2c128d8e261",
        "colab": {
          "base_uri": "https://localhost:8080/"
        }
      },
      "source": [
        "from google.colab import drive\n",
        "\n",
        "drive.mount('/content/drive')"
      ],
      "execution_count": 43,
      "outputs": [
        {
          "output_type": "stream",
          "text": [
            "Mounted at /content/drive\n"
          ],
          "name": "stdout"
        }
      ]
    },
    {
      "cell_type": "code",
      "metadata": {
        "id": "NDfD89SE-KHi"
      },
      "source": [
        "#membuka file\n",
        "f = open('drive/MyDrive/TeknologiData/TeknologiData.txt')\n"
      ],
      "execution_count": 48,
      "outputs": []
    },
    {
      "cell_type": "code",
      "metadata": {
        "colab": {
          "base_uri": "https://localhost:8080/"
        },
        "id": "-QYStgHI-x69",
        "outputId": "2a657b7f-f7c0-4323-d057-1e7e98ab589f"
      },
      "source": [
        "#membaca file\n",
        "print(f.read(4))\n",
        "print(f.tell())\n",
        "f.seek(0)"
      ],
      "execution_count": 49,
      "outputs": [
        {
          "output_type": "stream",
          "text": [
            "Hai \n",
            "4\n"
          ],
          "name": "stdout"
        },
        {
          "output_type": "execute_result",
          "data": {
            "text/plain": [
              "0"
            ]
          },
          "metadata": {
            "tags": []
          },
          "execution_count": 49
        }
      ]
    },
    {
      "cell_type": "code",
      "metadata": {
        "colab": {
          "base_uri": "https://localhost:8080/"
        },
        "id": "P2aDr80W_ZW1",
        "outputId": "bbafe2cc-1126-4223-a9a6-76c5a53ffa30"
      },
      "source": [
        "for line in f:\n",
        "  print(line, end = '')"
      ],
      "execution_count": 50,
      "outputs": [
        {
          "output_type": "stream",
          "text": [
            "Hai Saya bagus Satria Putra\n",
            "1841720146"
          ],
          "name": "stdout"
        }
      ]
    },
    {
      "cell_type": "code",
      "metadata": {
        "colab": {
          "base_uri": "https://localhost:8080/",
          "height": 36
        },
        "id": "AhsrxWa0VZq-",
        "outputId": "bca5d5f6-11cf-43e6-fe99-6778de76cf36"
      },
      "source": [
        ">>> f.readline()\n",
        "'This is the first line\\n'\n",
        ">>> f.readline()\n",
        "'This is the second line\\n'\n",
        ">>> f.readline()\n",
        "'This is the third line\\n'"
      ],
      "execution_count": 53,
      "outputs": [
        {
          "output_type": "execute_result",
          "data": {
            "application/vnd.google.colaboratory.intrinsic+json": {
              "type": "string"
            },
            "text/plain": [
              "'This is the third line\\n'"
            ]
          },
          "metadata": {
            "tags": []
          },
          "execution_count": 53
        }
      ]
    },
    {
      "cell_type": "code",
      "metadata": {
        "colab": {
          "base_uri": "https://localhost:8080/"
        },
        "id": "76EyIEywVa43",
        "outputId": "04137269-d24f-4bf4-ee34-da24d865dc4e"
      },
      "source": [
        ">>> f.readlines()\n",
        "['This is the first line\\n', 'This is the second line\\n', 'This is the third line\\n']\n"
      ],
      "execution_count": 55,
      "outputs": [
        {
          "output_type": "execute_result",
          "data": {
            "text/plain": [
              "['This is the first line\\n',\n",
              " 'This is the second line\\n',\n",
              " 'This is the third line\\n']"
            ]
          },
          "metadata": {
            "tags": []
          },
          "execution_count": 55
        }
      ]
    },
    {
      "cell_type": "markdown",
      "metadata": {
        "id": "fjGTegTdVcR6"
      },
      "source": [
        "**Menulis File**"
      ]
    },
    {
      "cell_type": "code",
      "metadata": {
        "id": "FPQKWlNjVe3P"
      },
      "source": [
        "with open('drive/MyDrive/TeknologiData/TeknologiData.txt', 'w') as f:\n",
        " f.write(\"The new first line\\n\")\n",
        " f.write(\"The new second line\\n\")\n",
        " f.write(\"The new third line\\n\")"
      ],
      "execution_count": 58,
      "outputs": []
    },
    {
      "cell_type": "markdown",
      "metadata": {
        "id": "2l5JMlxZVgdJ"
      },
      "source": [
        "**menutup File**"
      ]
    },
    {
      "cell_type": "code",
      "metadata": {
        "colab": {
          "base_uri": "https://localhost:8080/",
          "height": 212
        },
        "id": "GsRdjnY-Vi5d",
        "outputId": "bb3953c9-6c31-4426-a3b8-5244c2d08502"
      },
      "source": [
        "f.open('drive/MyDrive/TeknologiData/TeknologiData.txt')\n",
        "# melakukan berbagai operasi file\n",
        "f.close()\n"
      ],
      "execution_count": 59,
      "outputs": [
        {
          "output_type": "error",
          "ename": "AttributeError",
          "evalue": "ignored",
          "traceback": [
            "\u001b[0;31m---------------------------------------------------------------------------\u001b[0m",
            "\u001b[0;31mAttributeError\u001b[0m                            Traceback (most recent call last)",
            "\u001b[0;32m<ipython-input-59-0f0019b0ad01>\u001b[0m in \u001b[0;36m<module>\u001b[0;34m()\u001b[0m\n\u001b[0;32m----> 1\u001b[0;31m \u001b[0mf\u001b[0m\u001b[0;34m.\u001b[0m\u001b[0mopen\u001b[0m\u001b[0;34m(\u001b[0m\u001b[0;34m'drive/MyDrive/TeknologiData/TeknologiData.txt'\u001b[0m\u001b[0;34m)\u001b[0m\u001b[0;34m\u001b[0m\u001b[0;34m\u001b[0m\u001b[0m\n\u001b[0m\u001b[1;32m      2\u001b[0m \u001b[0;31m# melakukan berbagai operasi file\u001b[0m\u001b[0;34m\u001b[0m\u001b[0;34m\u001b[0m\u001b[0;34m\u001b[0m\u001b[0m\n\u001b[1;32m      3\u001b[0m \u001b[0mf\u001b[0m\u001b[0;34m.\u001b[0m\u001b[0mclose\u001b[0m\u001b[0;34m(\u001b[0m\u001b[0;34m)\u001b[0m\u001b[0;34m\u001b[0m\u001b[0;34m\u001b[0m\u001b[0m\n",
            "\u001b[0;31mAttributeError\u001b[0m: '_io.TextIOWrapper' object has no attribute 'open'"
          ]
        }
      ]
    },
    {
      "cell_type": "code",
      "metadata": {
        "id": "78aObWqlVkEC"
      },
      "source": [
        "try:\n",
        " f = open('drive/MyDrive/TeknologiData/TeknologiData.txt')\n",
        " # melakukan beberapa operasi file\n",
        "finally:\n",
        " f.close()\n"
      ],
      "execution_count": 60,
      "outputs": []
    },
    {
      "cell_type": "code",
      "metadata": {
        "colab": {
          "base_uri": "https://localhost:8080/",
          "height": 137
        },
        "id": "r-FkfxeCVl75",
        "outputId": "807babc9-b474-4b6a-fdac-04ee4660fc2a"
      },
      "source": [
        "with open(\"TeknologiData.txt\") as f:\n",
        " # lakukan operasi file"
      ],
      "execution_count": 61,
      "outputs": [
        {
          "output_type": "error",
          "ename": "SyntaxError",
          "evalue": "ignored",
          "traceback": [
            "\u001b[0;36m  File \u001b[0;32m\"<ipython-input-61-f1693e0174d9>\"\u001b[0;36m, line \u001b[0;32m2\u001b[0m\n\u001b[0;31m    # lakukan operasi file\u001b[0m\n\u001b[0m                          ^\u001b[0m\n\u001b[0;31mSyntaxError\u001b[0m\u001b[0;31m:\u001b[0m unexpected EOF while parsing\n"
          ]
        }
      ]
    },
    {
      "cell_type": "markdown",
      "metadata": {
        "id": "518Nq7b2VnIV"
      },
      "source": [
        "**Penanganan Eksepsi**"
      ]
    },
    {
      "cell_type": "code",
      "metadata": {
        "colab": {
          "base_uri": "https://localhost:8080/",
          "height": 137
        },
        "id": "0r6CVS7yVq4Q",
        "outputId": "cf3a4b6c-807c-4431-e2bc-c98c7044c7d1"
      },
      "source": [
        "if x < 5"
      ],
      "execution_count": 37,
      "outputs": [
        {
          "output_type": "error",
          "ename": "SyntaxError",
          "evalue": "ignored",
          "traceback": [
            "\u001b[0;36m  File \u001b[0;32m\"<ipython-input-37-f71258ced592>\"\u001b[0;36m, line \u001b[0;32m1\u001b[0m\n\u001b[0;31m    if x < 5\u001b[0m\n\u001b[0m            ^\u001b[0m\n\u001b[0;31mSyntaxError\u001b[0m\u001b[0;31m:\u001b[0m invalid syntax\n"
          ]
        }
      ]
    },
    {
      "cell_type": "code",
      "metadata": {
        "colab": {
          "base_uri": "https://localhost:8080/",
          "height": 174
        },
        "id": "8IC52zWgVsnU",
        "outputId": "c37ec8a9-3512-4145-a292-5f2618df014e"
      },
      "source": [
        ">>> 1/0\n"
      ],
      "execution_count": 38,
      "outputs": [
        {
          "output_type": "error",
          "ename": "ZeroDivisionError",
          "evalue": "ignored",
          "traceback": [
            "\u001b[0;31m---------------------------------------------------------------------------\u001b[0m",
            "\u001b[0;31mZeroDivisionError\u001b[0m                         Traceback (most recent call last)",
            "\u001b[0;32m<ipython-input-38-9e1622b385b6>\u001b[0m in \u001b[0;36m<module>\u001b[0;34m()\u001b[0m\n\u001b[0;32m----> 1\u001b[0;31m \u001b[0;36m1\u001b[0m\u001b[0;34m/\u001b[0m\u001b[0;36m0\u001b[0m\u001b[0;34m\u001b[0m\u001b[0;34m\u001b[0m\u001b[0m\n\u001b[0m",
            "\u001b[0;31mZeroDivisionError\u001b[0m: division by zero"
          ]
        }
      ]
    },
    {
      "cell_type": "markdown",
      "metadata": {
        "id": "r-4Fm5yjVtSu"
      },
      "source": [
        "**menangani Eksepsi Dengan Try,Except, dan Finally**"
      ]
    },
    {
      "cell_type": "code",
      "metadata": {
        "colab": {
          "base_uri": "https://localhost:8080/"
        },
        "id": "nqfLX6uUVyeT",
        "outputId": "89274db8-e2a1-4378-99c9-eb5071b86916"
      },
      "source": [
        "# import modul sys untuk memperoleh jenis eksepsi\n",
        "import sys\n",
        "lists = ['a', 0, 4]\n",
        "for each in lists:\n",
        " try:\n",
        "  print(\"Masukan:\", each)\n",
        "  r = 1/int(each)\n",
        "  break\n",
        " except:\n",
        "  print(\"Upps!\", sys.exc_info()[0], \" terjadi.\")\n",
        "  print(\"Masukan berikutnya.\")\n",
        "  print()\n",
        "print(\"Kebalikan dari \", each, \" =\", r)"
      ],
      "execution_count": 25,
      "outputs": [
        {
          "output_type": "stream",
          "text": [
            "Masukan: a\n",
            "Upps! <class 'ValueError'>  terjadi.\n",
            "Masukan berikutnya.\n",
            "\n",
            "Masukan: 0\n",
            "Upps! <class 'ZeroDivisionError'>  terjadi.\n",
            "Masukan berikutnya.\n",
            "\n",
            "Masukan: 4\n",
            "Kebalikan dari  4  = 0.25\n"
          ],
          "name": "stdout"
        }
      ]
    },
    {
      "cell_type": "markdown",
      "metadata": {
        "id": "oLbaskKTV467"
      },
      "source": [
        "**Memunculkan Eksepsi**"
      ]
    },
    {
      "cell_type": "code",
      "metadata": {
        "colab": {
          "base_uri": "https://localhost:8080/"
        },
        "id": "LoReBzVeV8Ua",
        "outputId": "ea351cb9-74f7-4b3d-9e13-2b83c3545399"
      },
      "source": [
        "\n",
        "try:\n",
        " a = int(input(\"Masukkan sebuah bilangan positif: \"))\n",
        " if a <= 0:\n",
        "  raise ValueError(\"Itu bukan bilangan positif!\")\n",
        "except ValueError as ve:\n",
        " print(ve)\n"
      ],
      "execution_count": 26,
      "outputs": [
        {
          "output_type": "stream",
          "text": [
            "Masukkan sebuah bilangan positif: -3\n",
            "Itu bukan bilangan positif!\n"
          ],
          "name": "stdout"
        }
      ]
    },
    {
      "cell_type": "markdown",
      "metadata": {
        "id": "PtHTDFqbV_Y3"
      },
      "source": [
        "**Try... Finally**"
      ]
    },
    {
      "cell_type": "code",
      "metadata": {
        "id": "KO6QsfsYWFUx"
      },
      "source": [
        "try:\n",
        " f = open('drive/MyDrive/TeknologiData/TeknologiData.txt')\n",
        " # melakukan operasi terhadap file\n",
        "finally:\n",
        " f.close()"
      ],
      "execution_count": 62,
      "outputs": []
    }
  ]
}