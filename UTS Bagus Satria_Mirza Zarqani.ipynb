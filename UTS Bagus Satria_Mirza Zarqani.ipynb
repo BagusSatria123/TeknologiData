{
  "nbformat": 4,
  "nbformat_minor": 0,
  "metadata": {
    "colab": {
      "name": "UTS.ipynb",
      "provenance": [],
      "authorship_tag": "ABX9TyNtUTBDLTqFZjewWXzoNkEE",
      "include_colab_link": true
    },
    "kernelspec": {
      "name": "python3",
      "display_name": "Python 3"
    },
    "language_info": {
      "name": "python"
    }
  },
  "cells": [
    {
      "cell_type": "markdown",
      "metadata": {
        "id": "view-in-github",
        "colab_type": "text"
      },
      "source": [
        "<a href=\"https://colab.research.google.com/github/BagusSatria123/TeknologiData/blob/master/UTS%20Bagus%20Satria_Mirza%20Zarqani.ipynb\" target=\"_parent\"><img src=\"https://colab.research.google.com/assets/colab-badge.svg\" alt=\"Open In Colab\"/></a>"
      ]
    },
    {
      "cell_type": "markdown",
      "metadata": {
        "id": "bl4nbD0nVy7C"
      },
      "source": [
        "**Bagus Satria Putra/1841720146 Absen 8**\n",
        "**Mirza Zarqani Rayhan / 1841720205 Absen 17**"
      ]
    },
    {
      "cell_type": "code",
      "metadata": {
        "id": "96smM393VwAU",
        "outputId": "a41d14cc-fd3c-4b68-83f7-1a5fed8a9c5b",
        "colab": {
          "base_uri": "https://localhost:8080/"
        }
      },
      "source": [
        "from google.colab import drive\n",
        "drive.mount('/content/drive')"
      ],
      "execution_count": 17,
      "outputs": [
        {
          "output_type": "stream",
          "text": [
            "Drive already mounted at /content/drive; to attempt to forcibly remount, call drive.mount(\"/content/drive\", force_remount=True).\n"
          ],
          "name": "stdout"
        }
      ]
    },
    {
      "cell_type": "code",
      "metadata": {
        "id": "oKbypdyGTzao"
      },
      "source": [
        "import matplotlib.pyplot as plt\n",
        "plt.style.use('seaborn-whitegrid')\n",
        "import numpy as np"
      ],
      "execution_count": 14,
      "outputs": []
    },
    {
      "cell_type": "code",
      "metadata": {
        "id": "xk5m9W8eU1ZR"
      },
      "source": [
        "import pandas as pd \n",
        "penjualan = pd.read_csv('/content/drive/MyDrive/TeknologiData/penjualan.csv')"
      ],
      "execution_count": 18,
      "outputs": []
    },
    {
      "cell_type": "code",
      "metadata": {
        "id": "FeP0_HuHVEHy",
        "outputId": "2fcee789-088f-45a7-8a49-7cf0bb14610b",
        "colab": {
          "base_uri": "https://localhost:8080/"
        }
      },
      "source": [
        "thn16, thn17, thn18, thn19, thn20, thn21 = penjualan['2016'], penjualan['2017'], penjualan['2018'], penjualan['2019'], penjualan['2020'], penjualan['2021']\n",
        "\n",
        "def mean(data):\n",
        "  a=0\n",
        "  for x in data:\n",
        "    a += x\n",
        "  return round(a/12)\n",
        "\n",
        "# memasukkan ke dalam array setiap mean/rata-rata dari total penjualan per tahun\n",
        "average_per_year = [mean(thn16), mean(thn17), mean(thn18), mean(thn19), mean(thn20), mean(thn21)]\n",
        "print(average_per_year)"
      ],
      "execution_count": 7,
      "outputs": [
        {
          "output_type": "stream",
          "text": [
            "[54, 71, 83, 68, 43, 71]\n"
          ],
          "name": "stdout"
        }
      ]
    },
    {
      "cell_type": "code",
      "metadata": {
        "id": "sH453ph7VIIX",
        "outputId": "5aabf2c0-edc7-401b-8813-b2c678f64b91",
        "colab": {
          "base_uri": "https://localhost:8080/"
        }
      },
      "source": [
        "# mengambil value tahun atau year dengan looping dibawah ini dan disimpan kedalam array year\n",
        "year = []\n",
        "for row in penjualan:\n",
        "  year += [row]\n",
        "\n",
        "year.pop(0)\n",
        "print(year)"
      ],
      "execution_count": 8,
      "outputs": [
        {
          "output_type": "stream",
          "text": [
            "['2016', '2017', '2018', '2019', '2020', '2021']\n"
          ],
          "name": "stdout"
        }
      ]
    },
    {
      "cell_type": "code",
      "metadata": {
        "id": "KJ-GXbqeVK9K",
        "outputId": "b920b3da-bfec-4c68-d73b-2ac38ee2dc88",
        "colab": {
          "base_uri": "https://localhost:8080/"
        }
      },
      "source": [
        "# Mengambil value dari setiap month name\n",
        "month = []\n",
        "for x in range(len(penjualan)):\n",
        "  month += [penjualan.iloc[x][0]]\n",
        "\n",
        "print(month)"
      ],
      "execution_count": 9,
      "outputs": [
        {
          "output_type": "stream",
          "text": [
            "['Jan', 'Feb', 'Mar', 'Apr', 'Mei', 'Jun', 'Jul', 'Agu', 'Sep', 'Okt', 'Nop', 'Des']\n"
          ],
          "name": "stdout"
        }
      ]
    },
    {
      "cell_type": "code",
      "metadata": {
        "id": "0YcfEa5MVNwl",
        "outputId": "54844a0a-0fa7-4584-e5fc-2dcadcc648eb",
        "colab": {
          "base_uri": "https://localhost:8080/",
          "height": 302
        }
      },
      "source": [
        "plt.plot(year, average_per_year, 'o')\n",
        "plt.ylim((0,100))\n",
        "plt.xlim(-1,6)\n",
        "plt.title('Penjualan rata-rata per tahun', fontsize=20)"
      ],
      "execution_count": 19,
      "outputs": [
        {
          "output_type": "execute_result",
          "data": {
            "text/plain": [
              "Text(0.5, 1.0, 'Penjualan rata-rata per tahun')"
            ]
          },
          "metadata": {
            "tags": []
          },
          "execution_count": 19
        },
        {
          "output_type": "display_data",
          "data": {
            "image/png": "[encoded data removed]",
            "text/plain": [
              "<Figure size 432x288 with 1 Axes>"
            ]
          },
          "metadata": {
            "tags": []
          }
        }
      ]
    },
    {
      "cell_type": "code",
      "metadata": {
        "id": "5Vs9QqumVSSg",
        "outputId": "e6898b07-9017-4f29-84da-76737e5a5274",
        "colab": {
          "base_uri": "https://localhost:8080/"
        }
      },
      "source": [
        "pembulatan = round(penjualan.mean(axis=1))\n",
        "average_per_month = []\n",
        "for x in pembulatan:\n",
        "  average_per_month += [x]\n",
        "\n",
        "print(month)\n",
        "print(average_per_month)"
      ],
      "execution_count": 11,
      "outputs": [
        {
          "output_type": "stream",
          "text": [
            "['Jan', 'Feb', 'Mar', 'Apr', 'Mei', 'Jun', 'Jul', 'Agu', 'Sep', 'Okt', 'Nop', 'Des']\n",
            "[43.0, 93.0, 87.0, 48.0, 104.0, 80.0, 76.0, 62.0, 65.0, 45.0, 43.0, 32.0]\n"
          ],
          "name": "stdout"
        }
      ]
    },
    {
      "cell_type": "code",
      "metadata": {
        "id": "H9zQsHaeVT5O",
        "outputId": "eed929a7-72b7-4c21-b617-7aed8ed0ace3",
        "colab": {
          "base_uri": "https://localhost:8080/",
          "height": 302
        }
      },
      "source": [
        "plt.bar(month, average_per_month, width=0.4)\n",
        "plt.ylim((0,120))\n",
        "plt.title('Penjualan Rata-rata per bulan', fontsize=20)"
      ],
      "execution_count": 16,
      "outputs": [
        {
          "output_type": "execute_result",
          "data": {
            "text/plain": [
              "Text(0.5, 1.0, 'Penjualan Rata-rata per bulan')"
            ]
          },
          "metadata": {
            "tags": []
          },
          "execution_count": 16
        },
        {
          "output_type": "display_data",
          "data": {
            "image/png": "[encoded data removed]",
            "text/plain": [
              "<Figure size 432x288 with 1 Axes>"
            ]
          },
          "metadata": {
            "tags": []
          }
        }
      ]
    }
  ]
}