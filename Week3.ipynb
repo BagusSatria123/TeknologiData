{
  "nbformat": 4,
  "nbformat_minor": 0,
  "metadata": {
    "colab": {
      "name": "Week3.ipynb",
      "provenance": [],
      "authorship_tag": "ABX9TyM5Y1heWIhSbiCzqrrMIiQx",
      "include_colab_link": true
    },
    "kernelspec": {
      "name": "python3",
      "display_name": "Python 3"
    }
  },
  "cells": [
    {
      "cell_type": "markdown",
      "metadata": {
        "id": "view-in-github",
        "colab_type": "text"
      },
      "source": [
        "<a href=\"https://colab.research.google.com/github/BagusSatria123/TeknologiData/blob/master/Week3.ipynb\" target=\"_parent\"><img src=\"https://colab.research.google.com/assets/colab-badge.svg\" alt=\"Open In Colab\"/></a>"
      ]
    },
    {
      "cell_type": "code",
      "metadata": {
        "id": "e4KLIrh8GjWN"
      },
      "source": [
        "# ini adalah tanda komentar\r\n",
        "pesan = 'Halooo saya belajar Bahasa python'\r\n",
        "n=17\r\n",
        "Pi = 3.145932653589793\r\n",
        "A=12; B=45; c = 'OK'"
      ],
      "execution_count": 1,
      "outputs": []
    },
    {
      "cell_type": "code",
      "metadata": {
        "id": "MOki9ayKH3EJ",
        "outputId": "973c0341-825e-4550-aa89-2f3e2e1788c0",
        "colab": {
          "base_uri": "https://localhost:8080/",
          "height": 151
        }
      },
      "source": [
        "for i in [1, 2, 3, 4, 5]:\r\n",
        " print i # first line in \"for i\" block\r\n",
        " for j in [1, 2, 3, 4, 5]:\r\n",
        " print j # first line in \"for j\" block\r\n",
        " print i + j # last line in \"for j\" block\r\n",
        " print i # last line in \"for i\" block\r\n",
        "print \"done looping\""
      ],
      "execution_count": 2,
      "outputs": [
        {
          "output_type": "error",
          "ename": "SyntaxError",
          "evalue": "ignored",
          "traceback": [
            "\u001b[0;36m  File \u001b[0;32m\"<ipython-input-2-d9e31d6addc2>\"\u001b[0;36m, line \u001b[0;32m2\u001b[0m\n\u001b[0;31m    print i # first line in \"for i\" block\u001b[0m\n\u001b[0m          ^\u001b[0m\n\u001b[0;31mSyntaxError\u001b[0m\u001b[0;31m:\u001b[0m Missing parentheses in call to 'print'. Did you mean print(i # first line in \"for i\" block)?\n"
          ]
        }
      ]
    },
    {
      "cell_type": "code",
      "metadata": {
        "id": "lUdsVfWOIRKm",
        "outputId": "eed7a24b-e6fd-496e-8708-ddf740dd6ba8",
        "colab": {
          "base_uri": "https://localhost:8080/",
          "height": 133
        }
      },
      "source": [
        "for i in [1, 2, 3, 4, 5]:\r\n",
        " # catatan baris kosong\r\n",
        "\r\n",
        " print i"
      ],
      "execution_count": 3,
      "outputs": [
        {
          "output_type": "error",
          "ename": "SyntaxError",
          "evalue": "ignored",
          "traceback": [
            "\u001b[0;36m  File \u001b[0;32m\"<ipython-input-3-1bfa6ecc7314>\"\u001b[0;36m, line \u001b[0;32m4\u001b[0m\n\u001b[0;31m    print i\u001b[0m\n\u001b[0m          ^\u001b[0m\n\u001b[0;31mSyntaxError\u001b[0m\u001b[0;31m:\u001b[0m Missing parentheses in call to 'print'. Did you mean print(i)?\n"
          ]
        }
      ]
    },
    {
      "cell_type": "code",
      "metadata": {
        "id": "GyUBbLShI-3Q",
        "outputId": "1308a1b7-93e3-48cb-cf58-6883fb260e99",
        "colab": {
          "base_uri": "https://localhost:8080/",
          "height": 133
        }
      },
      "source": [
        "import matplotlib.pyplot as plt\r\n",
        "from collections import defaultdict, Counter\r\n",
        "lookup = defaultdict(int)\r\n",
        "my_counter = Counter()\r\n",
        "match = 10\r\n",
        "from re import * # uh oh, re has a match function\r\n",
        "print match # \"<function re.match>\"\r\n"
      ],
      "execution_count": 4,
      "outputs": [
        {
          "output_type": "error",
          "ename": "SyntaxError",
          "evalue": "ignored",
          "traceback": [
            "\u001b[0;36m  File \u001b[0;32m\"<ipython-input-4-a4211e9d2a51>\"\u001b[0;36m, line \u001b[0;32m7\u001b[0m\n\u001b[0;31m    print match # \"<function re.match>\"\u001b[0m\n\u001b[0m              ^\u001b[0m\n\u001b[0;31mSyntaxError\u001b[0m\u001b[0;31m:\u001b[0m Missing parentheses in call to 'print'. Did you mean print(match # \"<function re.match>\")?\n"
          ]
        }
      ]
    },
    {
      "cell_type": "code",
      "metadata": {
        "id": "zvGK2MIzJG8l",
        "outputId": "7e798b21-17fb-4843-a058-54fd480297f7",
        "colab": {
          "base_uri": "https://localhost:8080/",
          "height": 187
        }
      },
      "source": [
        "my_function(5, 6, 0.7) #my_function = bernilai 0.06363636363636363\r\n",
        "my_function(5, 6) #my_function = bernilai 16.5"
      ],
      "execution_count": 5,
      "outputs": [
        {
          "output_type": "error",
          "ename": "NameError",
          "evalue": "ignored",
          "traceback": [
            "\u001b[0;31m---------------------------------------------------------------------------\u001b[0m",
            "\u001b[0;31mNameError\u001b[0m                                 Traceback (most recent call last)",
            "\u001b[0;32m<ipython-input-5-7fb2f168465b>\u001b[0m in \u001b[0;36m<module>\u001b[0;34m()\u001b[0m\n\u001b[0;32m----> 1\u001b[0;31m \u001b[0mmy_function\u001b[0m\u001b[0;34m(\u001b[0m\u001b[0;36m5\u001b[0m\u001b[0;34m,\u001b[0m \u001b[0;36m6\u001b[0m\u001b[0;34m,\u001b[0m \u001b[0;36m0.7\u001b[0m\u001b[0;34m)\u001b[0m \u001b[0;31m#my_function = bernilai 0.06363636363636363\u001b[0m\u001b[0;34m\u001b[0m\u001b[0;34m\u001b[0m\u001b[0m\n\u001b[0m\u001b[1;32m      2\u001b[0m \u001b[0mmy_function\u001b[0m\u001b[0;34m(\u001b[0m\u001b[0;36m5\u001b[0m\u001b[0;34m,\u001b[0m \u001b[0;36m6\u001b[0m\u001b[0;34m)\u001b[0m \u001b[0;31m#my_function = bernilai 16.5\u001b[0m\u001b[0;34m\u001b[0m\u001b[0;34m\u001b[0m\u001b[0m\n",
            "\u001b[0;31mNameError\u001b[0m: name 'my_function' is not defined"
          ]
        }
      ]
    },
    {
      "cell_type": "code",
      "metadata": {
        "id": "xq9X0FJWJPA0",
        "outputId": "6ec813d5-e502-4e31-a7d3-b98fe7b6083f",
        "colab": {
          "base_uri": "https://localhost:8080/",
          "height": 133
        }
      },
      "source": [
        "str1 = \"String petik ganda\"\r\n",
        "str2 = 'String petik tunggal'\r\n",
        "print (str1); print(str2)\r\n",
        "try:\r\n",
        " print 0 / 0\r\n",
        "except ZeroDivisionError:\r\n",
        " print \"tidak dapat dibagi dengan 0\"\r\n",
        " list_integer = [1, 2, 3]\r\n",
        "list_campuran = [\"string\", 0.1, True]\r\n",
        "list_dalam_lists = [ list_integer, list_campuran, [] ]\r\n",
        "lebar_list = print(len(integer_list)) # sama dengan 3\r\n",
        "jumlah_list = print(sum(integer_list)) # sama dengan 6\r\n",
        "x = [0, 1, 2, 3, 4, 5, 6, 7, 8, 9]\r\n",
        "zero = x[0] # sama dengan 0, indeks ke-0 dari list\r\n",
        "one = x[1] # sama dengan 1\r\n",
        "nine = x[-1] # sama dengan 9, indeks terakir\r\n",
        "eight = x[-2] # sama dengan 8, indeks terakhir ke-2\r\n",
        "x[0] = -1 # now x is [-1, 1, 2, 3, ..., 9]\r\n",
        "x = [0, 1, 2, 3, 4, 5, 6, 7, 8, 9]\r\n",
        "first_three = x[:3] # [0, 1, 2]\r\n",
        "three_to_end = x[3:] # [3, 4, 5, 6, 7, 8, 9]\r\n",
        "one_to_four = x[1:5] # [1, 2, 3, 4]\r\n",
        "last_three = x[-3:] # [7, 8, 9]\r\n",
        "without_first_and_last = print(x[1:-1]) # [1, 2, 3, 4, 5, 6, 7, 8]\r\n",
        "copy_of_x = x[:] # [0, 1, 2, 3, 4, 5, 6, 7, 8, 9]\r\n",
        "list1 = [1, [2,3], (4,5), False, 'No']\r\n",
        "list1 # [1, [2, 3], (4, 5), False, 'No'] , akses semua\r\n",
        "list1[3] # False , akses elemen ke-3 dimulai dari 0\r\n",
        "list1[2:3] # [(4, 5)] , slicing antara elemen ke-2 sampai ke-3\r\n",
        "list1[1:4] # [[2, 3], (4, 5), False] , slicing antara elemen ke-1\r\n",
        "sampai ke-4\r\n"
      ],
      "execution_count": 6,
      "outputs": [
        {
          "output_type": "error",
          "ename": "SyntaxError",
          "evalue": "ignored",
          "traceback": [
            "\u001b[0;36m  File \u001b[0;32m\"<ipython-input-6-e4e08151c807>\"\u001b[0;36m, line \u001b[0;32m5\u001b[0m\n\u001b[0;31m    print 0 / 0\u001b[0m\n\u001b[0m          ^\u001b[0m\n\u001b[0;31mSyntaxError\u001b[0m\u001b[0;31m:\u001b[0m Missing parentheses in call to 'print'. Did you mean print(0 / 0)?\n"
          ]
        }
      ]
    },
    {
      "cell_type": "code",
      "metadata": {
        "id": "dwyHQpyMJa1H",
        "outputId": "557f36b3-1a1f-4011-b5ca-99be09f6f1e8",
        "colab": {
          "base_uri": "https://localhost:8080/"
        }
      },
      "source": [
        "1 in [1, 2, 3] # True\r\n",
        "0 in [1, 2, 3] # False"
      ],
      "execution_count": 7,
      "outputs": [
        {
          "output_type": "execute_result",
          "data": {
            "text/plain": [
              "False"
            ]
          },
          "metadata": {
            "tags": []
          },
          "execution_count": 7
        }
      ]
    },
    {
      "cell_type": "code",
      "metadata": {
        "id": "LZVZ8QHVJdxI",
        "outputId": "2d1b2bb0-26a5-418c-d5a4-3fb6d745a014",
        "colab": {
          "base_uri": "https://localhost:8080/"
        }
      },
      "source": [
        "x = [1, 2, 3]\r\n",
        "x.extend([4, 5, 6]) # x sekarang adalah [1,2,3,4,5,6]\r\n",
        "x = [1, 2, 3]\r\n",
        "x.append(0) # x sekarang adalah [1, 2, 3, 0]\r\n",
        "y = x[-1] # sama dengan 0\r\n",
        "z = len(x) # sama dengan 4\r\n",
        "x, y, z = [1, -1, 10]\r\n",
        "print(x) # x adalah 1\r\n",
        "print(y) # y aadlah 2\r\n",
        "print(z) # z adalah 10\r\n",
        "_, y = [1, 2] # now y == 2, elemen pertama tidak dipedulikan "
      ],
      "execution_count": 11,
      "outputs": [
        {
          "output_type": "stream",
          "text": [
            "1\n",
            "-1\n",
            "10\n"
          ],
          "name": "stdout"
        }
      ]
    },
    {
      "cell_type": "code",
      "metadata": {
        "id": "Ihi3g_m4Jf3-",
        "outputId": "29c4f246-1b25-4198-a81b-dd098246b1d8",
        "colab": {
          "base_uri": "https://localhost:8080/",
          "height": 151
        }
      },
      "source": [
        "my_list = [1, 2] # list\r\n",
        "my_tuple = (1, 2) # tuple\r\n",
        "other_tuple = 3, 4\r\n",
        "my_list[1] = 3 # my_list sekarang adalah [1, 3]\r\n",
        "try:\r\n",
        " my_tuple[1] = 3\r\n",
        "except TypeError:\r\n",
        "  print \"tidak dapat memodifikasi tuple\"\r\n",
        "def sum_and_product(x, y):\r\n",
        " return (x + y),(x * y)\r\n",
        "sp = sum_and_product(2, 3) # sama dengan (5, 6)\r\n",
        "s, p = sum_and_product(5, 10) # s adalah 15, p adalah 50\r\n",
        "x, y = 1, 2 # sekarang x adalah 1, y adalah 2\r\n",
        "x, y = y, x # variabel dipertukarkan; x adalah 2, y adalah 1"
      ],
      "execution_count": 12,
      "outputs": [
        {
          "output_type": "error",
          "ename": "SyntaxError",
          "evalue": "ignored",
          "traceback": [
            "\u001b[0;36m  File \u001b[0;32m\"<ipython-input-12-e02056a3294a>\"\u001b[0;36m, line \u001b[0;32m8\u001b[0m\n\u001b[0;31m    print \"tidak dapat memodifikasi tuple\"\u001b[0m\n\u001b[0m                                         ^\u001b[0m\n\u001b[0;31mSyntaxError\u001b[0m\u001b[0;31m:\u001b[0m Missing parentheses in call to 'print'. Did you mean print(\"tidak dapat memodifikasi tuple\")?\n"
          ]
        }
      ]
    },
    {
      "cell_type": "code",
      "metadata": {
        "id": "cyGyZ3ZrJwjW",
        "outputId": "a555634c-e33e-4e45-d745-2b0e77aae18c",
        "colab": {
          "base_uri": "https://localhost:8080/",
          "height": 133
        }
      },
      "source": [
        "empty_dict = {} # Pythonic\r\n",
        "empty_dict2 = dict() # kurang Pythonic\r\n",
        "grades = { \"Joel\" : 80, \"Tim\" : 95 } # dictionary secara harfiah\r\n",
        "joels_grade = grades[\"Joel\"] # sama dengan 80\r\n",
        "try:\r\n",
        " kates_grade = grades[\"Kate\"]\r\n",
        "except KeyError:\r\n",
        " print \"no grade for Kate!\"\r\n",
        " joel_has_grade = \"Joel\" in grades # True\r\n",
        "kate_has_grade = \"Kate\" in grades # False\r\n",
        "joels_grade = grades.get(\"Joel\", 0) # equals 80\r\n",
        "kates_grade = grades.get(\"Kate\", 0) # equals 0\r\n",
        "no_ones_grade = grades.get(\"No One\") # default default is None\r\n",
        "grades[\"Tim\"] = 99 # replaces the old value\r\n",
        "grades[\"Kate\"] = 100 # adds a third entry\r\n",
        "num_students = len(grades) # equals 3\r\n",
        "tweet = {\r\n",
        " \"user\" : \"joelgrus\",\r\n",
        " \"text\" : \"Data Science is Awesome\",\r\n",
        " \"retweet_count\" : 100,\r\n",
        " \"hashtags\" : [\"#data\", \"#science\", \"#datascience\", \"#awesome\",\r\n",
        "\"#yolo\"]\r\n",
        "}\r\n",
        "tweet_keys = tweet.keys() # daftar key\r\n",
        "tweet_values = tweet.values() # daftar nilai\r\n",
        "tweet_items = tweet.items() # daftar (key, value) dalam tuple\r\n",
        "\"user\" in tweet_keys # True\r\n",
        "\"user\" in tweet # lebih Pythonic\r\n",
        "\"joelgrus\" in tweet_values # True"
      ],
      "execution_count": 13,
      "outputs": [
        {
          "output_type": "error",
          "ename": "SyntaxError",
          "evalue": "ignored",
          "traceback": [
            "\u001b[0;36m  File \u001b[0;32m\"<ipython-input-13-dd30f6f63558>\"\u001b[0;36m, line \u001b[0;32m8\u001b[0m\n\u001b[0;31m    print \"no grade for Kate!\"\u001b[0m\n\u001b[0m                             ^\u001b[0m\n\u001b[0;31mSyntaxError\u001b[0m\u001b[0;31m:\u001b[0m Missing parentheses in call to 'print'. Did you mean print(\"no grade for Kate!\")?\n"
          ]
        }
      ]
    },
    {
      "cell_type": "code",
      "metadata": {
        "id": "0QgbPmy9J8Rg",
        "outputId": "738f76c3-7456-4084-b0cb-ed7b2f9eb539",
        "colab": {
          "base_uri": "https://localhost:8080/",
          "height": 133
        }
      },
      "source": [
        "s = set()\r\n",
        "s.add(1) # s sekarang { 1 }\r\n",
        "s.add(2) # s sekarang { 1, 2 }\r\n",
        "s.add(2) # s masih { 1, 2 }\r\n",
        "x = len(s) # sama dengan 2\r\n",
        "y = 2 in s # sama dengan True\r\n",
        "z = 3 in s # sama dengan False\r\n",
        "stopwords_list = [\"a\",\"an\",\"at\"]\r\n",
        "\"zip\" in stopwords_list # False, pengecekkan setiap element, lambat\r\n",
        "stopwords_set = set(stopwords_list)\r\n",
        "\"zip\" in stopwords_set # pengecekan yang sangat cepat dari cara di\r\n",
        "atasnya\r\n",
        "item_list = [1, 2, 3, 1, 2, 3]\r\n",
        "num_items = len(item_list) # 6\r\n",
        "item_set = set(item_list) # {1, 2, 3}\r\n",
        "num_distinct_items = len(item_set) # 3\r\n",
        "distinct_item_list = list(item_set) # [1, 2, 3]\r\n",
        "if 1 > 2:\r\n",
        " message = \"Jika hanya 1 lebih dari dua...\"\r\n",
        "elif 1 > 3:\r\n",
        " message = \"elif kepanjangan dari 'else if'\"\r\n",
        "else:\r\n",
        " message = \"jika semua syarat di atas tidak terpenuhi\"\r\n",
        " x = 23\r\n",
        "sisa_bagi = \"genap\" if x % 2 == 0 else \"ganjil\"\r\n",
        "x = 0\r\n",
        "while x < 10:\r\n",
        " print (x, \"kurang dari 10\") # 0 kurang dari 10, sampai 9\r\n",
        " x += 1\r\n",
        " for x in range(10):\r\n",
        " print (x, \"kurang dari 10\")\r\n",
        " for x in range(10):\r\n",
        " if x == 3:\r\n",
        " continue # lanjut ke perulangan berikutnya\r\n",
        " if x == 5:\r\n",
        " break # berhenti dari perulangan secara keseluruhan\r\n",
        " print (x)\r\n"
      ],
      "execution_count": 14,
      "outputs": [
        {
          "output_type": "error",
          "ename": "IndentationError",
          "evalue": "ignored",
          "traceback": [
            "\u001b[0;36m  File \u001b[0;32m\"<ipython-input-14-dd9619a6db50>\"\u001b[0;36m, line \u001b[0;32m31\u001b[0m\n\u001b[0;31m    print (x, \"kurang dari 10\")\u001b[0m\n\u001b[0m        ^\u001b[0m\n\u001b[0;31mIndentationError\u001b[0m\u001b[0;31m:\u001b[0m expected an indented block\n"
          ]
        }
      ]
    },
    {
      "cell_type": "code",
      "metadata": {
        "id": "prY7x7rrKScM",
        "outputId": "5fb14477-350f-4c77-bd92-facd9ca8b9a3",
        "colab": {
          "base_uri": "https://localhost:8080/",
          "height": 241
        }
      },
      "source": [
        "one_is_less_than_two = 1 < 2 # sama dengan True\r\n",
        "true_equals_false = True == False # sama dengan False\r\n",
        "true_equals_false = true == false # pernyataan yang salah\r\n",
        "x = None\r\n",
        "print (x == None) # cetak True\r\n",
        "print (x is None) # cetak True"
      ],
      "execution_count": 15,
      "outputs": [
        {
          "output_type": "error",
          "ename": "NameError",
          "evalue": "ignored",
          "traceback": [
            "\u001b[0;31m---------------------------------------------------------------------------\u001b[0m",
            "\u001b[0;31mNameError\u001b[0m                                 Traceback (most recent call last)",
            "\u001b[0;32m<ipython-input-15-df86a80cb3e2>\u001b[0m in \u001b[0;36m<module>\u001b[0;34m()\u001b[0m\n\u001b[1;32m      1\u001b[0m \u001b[0mone_is_less_than_two\u001b[0m \u001b[0;34m=\u001b[0m \u001b[0;36m1\u001b[0m \u001b[0;34m<\u001b[0m \u001b[0;36m2\u001b[0m \u001b[0;31m# sama dengan True\u001b[0m\u001b[0;34m\u001b[0m\u001b[0;34m\u001b[0m\u001b[0m\n\u001b[1;32m      2\u001b[0m \u001b[0mtrue_equals_false\u001b[0m \u001b[0;34m=\u001b[0m \u001b[0;32mTrue\u001b[0m \u001b[0;34m==\u001b[0m \u001b[0;32mFalse\u001b[0m \u001b[0;31m# sama dengan False\u001b[0m\u001b[0;34m\u001b[0m\u001b[0;34m\u001b[0m\u001b[0m\n\u001b[0;32m----> 3\u001b[0;31m \u001b[0mtrue_equals_false\u001b[0m \u001b[0;34m=\u001b[0m \u001b[0mtrue\u001b[0m \u001b[0;34m==\u001b[0m \u001b[0mfalse\u001b[0m \u001b[0;31m# pernyataan yang salah\u001b[0m\u001b[0;34m\u001b[0m\u001b[0;34m\u001b[0m\u001b[0m\n\u001b[0m\u001b[1;32m      4\u001b[0m \u001b[0mx\u001b[0m \u001b[0;34m=\u001b[0m \u001b[0;32mNone\u001b[0m\u001b[0;34m\u001b[0m\u001b[0;34m\u001b[0m\u001b[0m\n\u001b[1;32m      5\u001b[0m \u001b[0mprint\u001b[0m \u001b[0;34m(\u001b[0m\u001b[0mx\u001b[0m \u001b[0;34m==\u001b[0m \u001b[0;32mNone\u001b[0m\u001b[0;34m)\u001b[0m \u001b[0;31m# cetak True\u001b[0m\u001b[0;34m\u001b[0m\u001b[0;34m\u001b[0m\u001b[0m\n",
            "\u001b[0;31mNameError\u001b[0m: name 'true' is not defined"
          ]
        }
      ]
    },
    {
      "cell_type": "code",
      "metadata": {
        "id": "FIapqJVyKZuT"
      },
      "source": [
        ""
      ],
      "execution_count": null,
      "outputs": []
    }
  ]
}